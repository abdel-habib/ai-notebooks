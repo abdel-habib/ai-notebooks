{
 "cells": [
  {
   "cell_type": "markdown",
   "id": "14d420d2-2c65-4f99-83f8-892b6bc82559",
   "metadata": {},
   "source": [
    "An indepth tutorial to understand different weight initialization techniques."
   ]
  },
  {
   "cell_type": "markdown",
   "id": "a66f35a8-0a8b-4489-8451-c6fabb367400",
   "metadata": {},
   "source": [
    "#### Weight Initialization"
   ]
  },
  {
   "cell_type": "markdown",
   "id": "1e6dc349-dd93-4046-bce5-4337876bcc9b",
   "metadata": {},
   "source": [
    "Every layer (e.g., nn.Linear, nn.Conv2d) has learnable parameters—weights and biases—which are initialized before training begins. Poor initialization can lead to:\n",
    "1. Vanishing/exploding gradients.\n",
    "2. Slow convergence.\n",
    "3. Getting stuck in poor local minima."
   ]
  },
  {
   "cell_type": "code",
   "execution_count": 32,
   "id": "85a2616c-cacb-455c-8dd9-a97e8a47e44d",
   "metadata": {},
   "outputs": [
    {
     "name": "stdout",
     "output_type": "stream",
     "text": [
      "The autoreload extension is already loaded. To reload it, use:\n",
      "  %reload_ext autoreload\n"
     ]
    }
   ],
   "source": [
    "import torch\n",
    "import torch.nn as nn\n",
    "import numpy as np\n",
    "import torch.nn.functional as F\n",
    "import matplotlib.pyplot as plt\n",
    "import torch.optim as optim\n",
    "import torch.nn.init as init\n",
    "\n",
    "import torchvision\n",
    "import torchvision.transforms as transforms\n",
    "\n",
    "from sklearn.datasets import make_moons\n",
    "from sklearn.model_selection import train_test_split\n",
    "from sklearn.preprocessing import StandardScaler\n",
    "\n",
    "%load_ext autoreload\n",
    "%autoreload 2"
   ]
  },
  {
   "cell_type": "markdown",
   "id": "fc1a1ff5-ec9c-4d60-a1b8-854ae5bc9aa8",
   "metadata": {},
   "source": [
    "<b>1. Zero Initialization (Bad)</b>"
   ]
  },
  {
   "cell_type": "code",
   "execution_count": 1,
   "id": "75fa4153-760a-4d38-adf0-a639697d04ea",
   "metadata": {},
   "outputs": [],
   "source": [
    "# nn.init.constant_(layer.weight, 0)"
   ]
  },
  {
   "cell_type": "markdown",
   "id": "038d2a14-4362-4417-9bd6-bd7ea693406d",
   "metadata": {},
   "source": [
    "<b>2. Random Initialization</b>"
   ]
  },
  {
   "cell_type": "code",
   "execution_count": 2,
   "id": "03ec2ebd-e172-446b-acc9-a38438395133",
   "metadata": {},
   "outputs": [],
   "source": [
    "# nn.init.normal_(layer.weight, mean=0.0, std=0.01)\n",
    "# nn.init.uniform_(layer.weight, a=-0.1, b=0.1)"
   ]
  },
  {
   "cell_type": "markdown",
   "id": "463933ec-37c7-4be8-aa1c-b07f36381d01",
   "metadata": {},
   "source": [
    "<b>3. Xavier (Glorot) Initialization</b>"
   ]
  },
  {
   "cell_type": "markdown",
   "id": "7dad2e9c-b9c0-488b-8a6e-38853413e233",
   "metadata": {},
   "source": [
    "For tanh / sigmoid activations."
   ]
  },
  {
   "cell_type": "code",
   "execution_count": 3,
   "id": "66364dd8-abc1-46d5-b2d1-aec5d551237a",
   "metadata": {},
   "outputs": [],
   "source": [
    "# nn.init.xavier_uniform_(layer.weight)\n",
    "# nn.init.xavier_normal_(layer.weight)"
   ]
  },
  {
   "cell_type": "markdown",
   "id": "7d01e839-730f-46fc-8b36-9a456faeeb4b",
   "metadata": {},
   "source": [
    "<b>4. Kaiming (He) Initialization</b>"
   ]
  },
  {
   "cell_type": "markdown",
   "id": "a07c00a4-e083-4c0b-aa02-d6e6f50fe7b9",
   "metadata": {},
   "source": [
    "For ReLU and variants."
   ]
  },
  {
   "cell_type": "code",
   "execution_count": 5,
   "id": "8adcb41d-3be7-41b0-afa8-743034d700c2",
   "metadata": {},
   "outputs": [],
   "source": [
    "# nn.init.kaiming_uniform_(layer.weight, mode='fan_in', nonlinearity='relu')\n",
    "# nn.init.kaiming_normal_(layer.weight, mode='fan_out', nonlinearity='leaky_relu')"
   ]
  },
  {
   "cell_type": "markdown",
   "id": "2f682c85-7296-497f-8f29-cb6f568a829c",
   "metadata": {},
   "source": [
    "<b>5. Orthogonal Initialization</b>"
   ]
  },
  {
   "cell_type": "markdown",
   "id": "b18dc23a-9e1b-4fa1-91bc-71e144569145",
   "metadata": {},
   "source": [
    "Good for RNNs or deep nets with stable gradients."
   ]
  },
  {
   "cell_type": "code",
   "execution_count": 7,
   "id": "7ef2851b-ed69-486a-be4f-eb8b7e58e8d4",
   "metadata": {},
   "outputs": [],
   "source": [
    "# nn.init.orthogonal_(layer.weight, gain=1.0)"
   ]
  },
  {
   "cell_type": "markdown",
   "id": "92a0c7e9-eda3-4668-972d-86686ebcc438",
   "metadata": {},
   "source": [
    "<b>6. Sparse Initialization</b>"
   ]
  },
  {
   "cell_type": "markdown",
   "id": "115a80cf-fa93-4b6b-a807-22e40f305549",
   "metadata": {},
   "source": [
    "Useful in some specific tasks (e.g., NLP)."
   ]
  },
  {
   "cell_type": "code",
   "execution_count": 9,
   "id": "6acd62c7-f8e1-4402-9519-fc8fab97288c",
   "metadata": {},
   "outputs": [],
   "source": [
    "# nn.init.sparse_(layer.weight, sparsity=0.1)"
   ]
  },
  {
   "cell_type": "markdown",
   "id": "77c3066d-a84c-4977-98ff-22046c25590c",
   "metadata": {},
   "source": [
    "<b>Example on training a MLP on synthetic data clf</b>"
   ]
  },
  {
   "cell_type": "code",
   "execution_count": 17,
   "id": "2ad65bcf-0b75-4c0a-8168-3546235df20b",
   "metadata": {},
   "outputs": [
    {
     "name": "stdout",
     "output_type": "stream",
     "text": [
      "Total train dataset: (1000, 2)\n",
      "Total tesst dataset: (1000,)\n",
      "X_train split: (800, 2)\n",
      "X_test split: (200, 2)\n",
      "y_train split: (800,)\n",
      "y_test split: (200,)\n"
     ]
    }
   ],
   "source": [
    "# Data\n",
    "X, y = make_moons(n_samples=1000, noise=0.2, random_state=42)\n",
    "X = StandardScaler().fit_transform(X)\n",
    "X_train, X_test, y_train, y_test = train_test_split(X, y, test_size=0.2)\n",
    "\n",
    "print(f\"Total train dataset: {X.shape}\")\n",
    "print(f\"Total tesst dataset: {y.shape}\")\n",
    "print(f\"X_train split: {X_train.shape}\")\n",
    "print(f\"X_test split: {X_test.shape}\")\n",
    "print(f\"y_train split: {y_train.shape}\")\n",
    "print(f\"y_test split: {y_test.shape}\")"
   ]
  },
  {
   "cell_type": "code",
   "execution_count": 20,
   "id": "7633530c-d1cc-4a00-96b4-7aeb77a4c912",
   "metadata": {},
   "outputs": [],
   "source": [
    "# Creating tensors\n",
    "X_train = torch.tensor(X_train, dtype=torch.float32)\n",
    "X_test = torch.tensor(X_test, dtype=torch.float32)\n",
    "y_train = torch.tensor(y_train, dtype=torch.long)\n",
    "y_test = torch.tensor(y_test, dtype=torch.long)"
   ]
  },
  {
   "cell_type": "code",
   "execution_count": 26,
   "id": "358badfa-d577-4892-84d5-bbb88d1f418c",
   "metadata": {},
   "outputs": [],
   "source": [
    "class MLP(nn.Module):\n",
    "    def __init__(self, init_type=\"xavier\"):\n",
    "        super().__init__()\n",
    "        self.fc1 = nn.Linear(2, 64)\n",
    "        self.fc2 = nn.Linear(64, 64)\n",
    "        self.out = nn.Linear(64, 2)\n",
    "        self.init_weights(init_type)\n",
    "\n",
    "    def init_weights(self, method):\n",
    "        for m in self.modules():\n",
    "            if isinstance(m, nn.Linear):\n",
    "                if method == \"xavier\":\n",
    "                    nn.init.xavier_uniform_(m.weight)\n",
    "                elif method == \"kaiming\":\n",
    "                    nn.init.kaiming_normal_(m.weight, nonlinearity='relu')\n",
    "                elif method == \"constant\":\n",
    "                    nn.init.constant_(m.weight, 0.01)\n",
    "                elif method == \"zero\":\n",
    "                    nn.init.constant_(m.weight, 0)\n",
    "                else:\n",
    "                    nn.init.normal_(m.weight, mean=0.0, std=1.0)\n",
    "                nn.init.constant_(m.bias, 0)\n",
    "\n",
    "    def forward(self, x):\n",
    "        x = F.relu(self.fc1(x))\n",
    "        x = F.relu(self.fc2(x))\n",
    "        return self.out(x)"
   ]
  },
  {
   "cell_type": "code",
   "execution_count": 27,
   "id": "f09758e0-1079-4064-a6fb-a87a902b2d94",
   "metadata": {},
   "outputs": [],
   "source": [
    "def train_model(init_type, epochs=50):\n",
    "    model = MLP(init_type)\n",
    "    optimizer = optim.Adam(model.parameters(), lr=0.01)\n",
    "    loss_fn = nn.CrossEntropyLoss()\n",
    "\n",
    "    losses = []\n",
    "    for epoch in range(epochs):\n",
    "        model.train()\n",
    "        optimizer.zero_grad()\n",
    "        output = model(X_train)\n",
    "        loss = loss_fn(output, y_train)\n",
    "        loss.backward()        \n",
    "        optimizer.step()\n",
    "        losses.append(loss.item())\n",
    "\n",
    "    # Evaluate\n",
    "    model.eval()\n",
    "    preds = torch.argmax(model(X_test), dim=1)\n",
    "    acc = (preds == y_test).float().mean().item()\n",
    "    return losses, acc"
   ]
  },
  {
   "cell_type": "code",
   "execution_count": 29,
   "id": "02972f6c-5aaf-4638-8336-65ac6abb8209",
   "metadata": {},
   "outputs": [
    {
     "name": "stdout",
     "output_type": "stream",
     "text": [
      "Training with xavier init...\n",
      "Training with kaiming init...\n",
      "Training with constant init...\n",
      "Training with zero init...\n"
     ]
    },
    {
     "data": {
      "image/png": "[encoded data removed]",
      "text/plain": [
       "<Figure size 1000x600 with 1 Axes>"
      ]
     },
     "metadata": {},
     "output_type": "display_data"
    }
   ],
   "source": [
    "methods = [\"xavier\", \"kaiming\", \"constant\", \"zero\"] # \"random\"\n",
    "results = {}\n",
    "\n",
    "for method in methods:\n",
    "    print(f\"Training with {method} init...\")\n",
    "    losses, acc = train_model(method)\n",
    "    results[method] = {\"losses\": losses, \"acc\": acc}\n",
    "\n",
    "# Plot losses\n",
    "plt.figure(figsize=(10, 6))\n",
    "for method in methods:\n",
    "    plt.plot(results[method][\"losses\"], label=f\"{method} (acc={results[method]['acc']:.2f})\")\n",
    "\n",
    "plt.title(\"Loss vs Epochs for Different Initializations\")\n",
    "plt.xlabel(\"Epoch\")\n",
    "plt.ylabel(\"Loss\")\n",
    "plt.legend()\n",
    "plt.grid(True)\n",
    "plt.show()"
   ]
  },
  {
   "cell_type": "markdown",
   "id": "7e78f988-8a55-4062-8412-007248b920d2",
   "metadata": {},
   "source": [
    "<b>Experimenting on an image dataset classification task</b>"
   ]
  },
  {
   "cell_type": "code",
   "execution_count": 33,
   "id": "23ff638c-e87d-46c7-bbb1-6872a82df713",
   "metadata": {},
   "outputs": [
    {
     "name": "stderr",
     "output_type": "stream",
     "text": [
      "100.0%\n"
     ]
    }
   ],
   "source": [
    "# Device\n",
    "device = torch.device(\"cuda\" if torch.cuda.is_available() else \"cpu\")\n",
    "\n",
    "# CIFAR10 (tiny RGB images, 10 classes)\n",
    "transform = transforms.Compose([\n",
    "    transforms.ToTensor(),\n",
    "    transforms.Normalize((0.5,), (0.5,))\n",
    "])\n",
    "\n",
    "trainset = torchvision.datasets.CIFAR10(root='./data', train=True, download=True, transform=transform)\n",
    "testset = torchvision.datasets.CIFAR10(root='./data', train=False, download=True, transform=transform)\n",
    "\n",
    "trainloader = torch.utils.data.DataLoader(trainset, batch_size=128, shuffle=True, num_workers=2)\n",
    "testloader = torch.utils.data.DataLoader(testset, batch_size=128, shuffle=False, num_workers=2)"
   ]
  },
  {
   "cell_type": "code",
   "execution_count": 34,
   "id": "844c6982-9150-43e2-8693-4cdd6e6c03fc",
   "metadata": {},
   "outputs": [],
   "source": [
    "class CNNClf(nn.Module):\n",
    "    def __init__(self, init_type=\"xavier\"):\n",
    "        super().__init__()\n",
    "        self.conv1 = nn.Conv2d(3, 32, kernel_size=3, padding=1)\n",
    "        self.conv2 = nn.Conv2d(32, 64, kernel_size=3, padding=1)\n",
    "        self.pool = nn.MaxPool2d(2, 2)\n",
    "        self.fc1 = nn.Linear(64 * 8 * 8, 128)\n",
    "        self.fc2 = nn.Linear(128, 10)\n",
    "\n",
    "        self.init_weights(init_type)\n",
    "\n",
    "    def init_weights(self, init_type):\n",
    "        for m in self.modules():\n",
    "            if isinstance(m, nn.Conv2d) or isinstance(m, nn.Linear):\n",
    "                if init_type == \"xavier\":\n",
    "                    nn.init.xavier_uniform_(m.weight)\n",
    "                elif init_type == \"kaiming\":\n",
    "                    nn.init.kaiming_normal_(m.weight, nonlinearity='relu')\n",
    "                elif init_type == \"zero\":\n",
    "                    nn.init.constant_(m.weight, 0)\n",
    "                elif init_type == \"constant\":\n",
    "                    nn.init.constant_(m.weight, 0.01)\n",
    "                else:\n",
    "                    nn.init.normal_(m.weight, mean=0.0, std=1.0)\n",
    "                nn.init.constant_(m.bias, 0)\n",
    "\n",
    "    def forward(self, x):\n",
    "        x = self.pool(F.relu(self.conv1(x)))\n",
    "        x = self.pool(F.relu(self.conv2(x)))\n",
    "        x = x.view(x.size(0), -1)\n",
    "        x = F.relu(self.fc1(x))\n",
    "        return self.fc2(x)"
   ]
  },
  {
   "cell_type": "code",
   "execution_count": 35,
   "id": "5e5ee47a-6f01-409d-85d7-2beae95edf4b",
   "metadata": {},
   "outputs": [],
   "source": [
    "def train_model(init_type, epochs=5):\n",
    "    model = CNNClf(init_type).to(device)\n",
    "    optimizer = optim.Adam(model.parameters(), lr=0.001)\n",
    "    criterion = nn.CrossEntropyLoss()\n",
    "\n",
    "    train_loss = []\n",
    "    test_acc = []\n",
    "\n",
    "    for epoch in range(epochs):\n",
    "        model.train()\n",
    "        running_loss = 0.0\n",
    "        for images, labels in trainloader:\n",
    "            images, labels = images.to(device), labels.to(device)\n",
    "            optimizer.zero_grad()\n",
    "            outputs = model(images)\n",
    "            loss = criterion(outputs, labels)\n",
    "            loss.backward()\n",
    "            optimizer.step()\n",
    "            running_loss += loss.item()\n",
    "\n",
    "        train_loss.append(running_loss / len(trainloader))\n",
    "\n",
    "        # Eval\n",
    "        model.eval()\n",
    "        correct = 0\n",
    "        total = 0\n",
    "        with torch.no_grad():\n",
    "            for images, labels in testloader:\n",
    "                images, labels = images.to(device), labels.to(device)\n",
    "                outputs = model(images)\n",
    "                _, predicted = torch.max(outputs.data, 1)\n",
    "                total += labels.size(0)\n",
    "                correct += (predicted == labels).sum().item()\n",
    "        test_acc.append(100 * correct / total)\n",
    "\n",
    "        print(f\"[{init_type}] Epoch {epoch+1}/{epochs} | Loss: {train_loss[-1]:.3f} | Test Acc: {test_acc[-1]:.2f}%\")\n",
    "\n",
    "    return train_loss, test_acc"
   ]
  },
  {
   "cell_type": "code",
   "execution_count": 36,
   "id": "3f0210d3-db1d-42ff-a5d9-c224019b21c9",
   "metadata": {},
   "outputs": [
    {
     "name": "stdout",
     "output_type": "stream",
     "text": [
      "\n",
      "Training with xavier initialization...\n",
      "[xavier] Epoch 1/10 | Loss: 1.371 | Test Acc: 61.40%\n",
      "[xavier] Epoch 2/10 | Loss: 1.000 | Test Acc: 67.12%\n",
      "[xavier] Epoch 3/10 | Loss: 0.858 | Test Acc: 69.05%\n",
      "[xavier] Epoch 4/10 | Loss: 0.754 | Test Acc: 70.28%\n",
      "[xavier] Epoch 5/10 | Loss: 0.672 | Test Acc: 70.72%\n",
      "[xavier] Epoch 6/10 | Loss: 0.592 | Test Acc: 72.32%\n",
      "[xavier] Epoch 7/10 | Loss: 0.517 | Test Acc: 72.82%\n",
      "[xavier] Epoch 8/10 | Loss: 0.448 | Test Acc: 72.38%\n",
      "[xavier] Epoch 9/10 | Loss: 0.385 | Test Acc: 72.36%\n",
      "[xavier] Epoch 10/10 | Loss: 0.323 | Test Acc: 72.78%\n",
      "\n",
      "Training with kaiming initialization...\n",
      "[kaiming] Epoch 1/10 | Loss: 1.390 | Test Acc: 58.05%\n",
      "[kaiming] Epoch 2/10 | Loss: 1.008 | Test Acc: 66.14%\n",
      "[kaiming] Epoch 3/10 | Loss: 0.855 | Test Acc: 68.87%\n",
      "[kaiming] Epoch 4/10 | Loss: 0.760 | Test Acc: 69.85%\n",
      "[kaiming] Epoch 5/10 | Loss: 0.679 | Test Acc: 71.06%\n",
      "[kaiming] Epoch 6/10 | Loss: 0.606 | Test Acc: 71.58%\n",
      "[kaiming] Epoch 7/10 | Loss: 0.543 | Test Acc: 70.85%\n",
      "[kaiming] Epoch 8/10 | Loss: 0.483 | Test Acc: 71.32%\n",
      "[kaiming] Epoch 9/10 | Loss: 0.431 | Test Acc: 71.46%\n",
      "[kaiming] Epoch 10/10 | Loss: 0.378 | Test Acc: 70.65%\n",
      "\n",
      "Training with constant initialization...\n",
      "[constant] Epoch 1/10 | Loss: 2.303 | Test Acc: 10.00%\n",
      "[constant] Epoch 2/10 | Loss: 2.303 | Test Acc: 10.00%\n",
      "[constant] Epoch 3/10 | Loss: 2.303 | Test Acc: 10.00%\n",
      "[constant] Epoch 4/10 | Loss: 2.303 | Test Acc: 10.00%\n",
      "[constant] Epoch 5/10 | Loss: 2.303 | Test Acc: 10.00%\n",
      "[constant] Epoch 6/10 | Loss: 2.303 | Test Acc: 10.00%\n",
      "[constant] Epoch 7/10 | Loss: 2.303 | Test Acc: 10.00%\n",
      "[constant] Epoch 8/10 | Loss: 2.303 | Test Acc: 10.00%\n",
      "[constant] Epoch 9/10 | Loss: 2.303 | Test Acc: 10.00%\n",
      "[constant] Epoch 10/10 | Loss: 2.303 | Test Acc: 10.00%\n",
      "\n",
      "Training with zero initialization...\n",
      "[zero] Epoch 1/10 | Loss: 2.303 | Test Acc: 10.00%\n",
      "[zero] Epoch 2/10 | Loss: 2.303 | Test Acc: 10.00%\n",
      "[zero] Epoch 3/10 | Loss: 2.303 | Test Acc: 10.00%\n",
      "[zero] Epoch 4/10 | Loss: 2.303 | Test Acc: 10.00%\n",
      "[zero] Epoch 5/10 | Loss: 2.303 | Test Acc: 10.00%\n",
      "[zero] Epoch 6/10 | Loss: 2.303 | Test Acc: 10.00%\n",
      "[zero] Epoch 7/10 | Loss: 2.303 | Test Acc: 10.00%\n",
      "[zero] Epoch 8/10 | Loss: 2.303 | Test Acc: 10.00%\n",
      "[zero] Epoch 9/10 | Loss: 2.303 | Test Acc: 10.00%\n",
      "[zero] Epoch 10/10 | Loss: 2.303 | Test Acc: 10.00%\n",
      "\n",
      "Training with random initialization...\n",
      "[random] Epoch 1/10 | Loss: 3085.889 | Test Acc: 16.26%\n",
      "[random] Epoch 2/10 | Loss: 39.642 | Test Acc: 10.22%\n",
      "[random] Epoch 3/10 | Loss: 5.102 | Test Acc: 10.17%\n",
      "[random] Epoch 4/10 | Loss: 3.515 | Test Acc: 10.10%\n",
      "[random] Epoch 5/10 | Loss: 2.933 | Test Acc: 10.03%\n",
      "[random] Epoch 6/10 | Loss: 2.669 | Test Acc: 10.05%\n",
      "[random] Epoch 7/10 | Loss: 2.523 | Test Acc: 10.04%\n",
      "[random] Epoch 8/10 | Loss: 2.439 | Test Acc: 10.00%\n",
      "[random] Epoch 9/10 | Loss: 2.384 | Test Acc: 9.99%\n",
      "[random] Epoch 10/10 | Loss: 2.356 | Test Acc: 10.01%\n"
     ]
    }
   ],
   "source": [
    "init_types = [\"xavier\", \"kaiming\", \"constant\", \"zero\", \"random\"]\n",
    "results = {}\n",
    "\n",
    "for init in init_types:\n",
    "    print(f\"\\nTraining with {init} initialization...\")\n",
    "    loss, acc = train_model(init, epochs=10)\n",
    "    results[init] = {\"loss\": loss, \"acc\": acc}"
   ]
  },
  {
   "cell_type": "code",
   "execution_count": 37,
   "id": "8327e98b-f60f-4c4c-86fb-920f2f74ec25",
   "metadata": {},
   "outputs": [
    {
     "data": {
      "image/png": "[encoded data removed]",
      "text/plain": [
       "<Figure size 1400x500 with 2 Axes>"
      ]
     },
     "metadata": {},
     "output_type": "display_data"
    }
   ],
   "source": [
    "plt.figure(figsize=(14, 5))\n",
    "\n",
    "# Loss\n",
    "plt.subplot(1, 2, 1)\n",
    "for init in init_types:\n",
    "    plt.plot(results[init][\"loss\"], label=init)\n",
    "plt.title(\"Training Loss per Epoch\")\n",
    "plt.xlabel(\"Epoch\")\n",
    "plt.ylabel(\"Loss\")\n",
    "plt.legend()\n",
    "plt.grid(True)\n",
    "\n",
    "# Accuracy\n",
    "plt.subplot(1, 2, 2)\n",
    "for init in init_types:\n",
    "    plt.plot(results[init][\"acc\"], label=init)\n",
    "plt.title(\"Test Accuracy per Epoch\")\n",
    "plt.xlabel(\"Epoch\")\n",
    "plt.ylabel(\"Accuracy (%)\")\n",
    "plt.legend()\n",
    "plt.grid(True)\n",
    "\n",
    "plt.tight_layout()\n",
    "plt.show()"
   ]
  },
  {
   "cell_type": "markdown",
   "id": "11df48a4-839b-4655-b3e4-ec000f04c6ea",
   "metadata": {},
   "source": [
    "#### Sharing Weights"
   ]
  },
  {
   "cell_type": "markdown",
   "id": "bded9366-a79e-4ac3-b726-cb837eb3398f",
   "metadata": {},
   "source": [
    "Allows different parts of a model to reuse the same parameters, which can save memory, enforce symmetry, and encode useful inductive biases."
   ]
  },
  {
   "cell_type": "code",
   "execution_count": 38,
   "id": "db44f962-decb-4987-87db-af946bb29010",
   "metadata": {},
   "outputs": [],
   "source": [
    "class SharedWeightNet(nn.Module):\n",
    "    def __init__(self):\n",
    "        super().__init__()\n",
    "        # Create one shared linear layer\n",
    "        self.shared_fc = nn.Linear(10, 20)\n",
    "\n",
    "        # Use it in two different places\n",
    "        self.branch1 = self.shared_fc\n",
    "        self.branch2 = self.shared_fc  # Sharing weights here\n",
    "\n",
    "        self.output = nn.Linear(20, 1)\n",
    "\n",
    "    def forward(self, x):\n",
    "        out1 = self.branch1(x)\n",
    "        out2 = self.branch2(x)\n",
    "        combined = (out1 + out2) / 2\n",
    "        return self.output(F.relu(combined))"
   ]
  },
  {
   "cell_type": "markdown",
   "id": "11542c1e-7ccd-4bbb-aecc-e55477164356",
   "metadata": {},
   "source": [
    "Both `branch1` and `branch2` use the same weight and bias, and will be updated together during backpropagation."
   ]
  },
  {
   "cell_type": "code",
   "execution_count": 39,
   "id": "882fd09a-2870-4fbe-83ad-4d3202a4ebb2",
   "metadata": {},
   "outputs": [
    {
     "name": "stdout",
     "output_type": "stream",
     "text": [
      "tensor([[ 0.1342],\n",
      "        [-0.0386],\n",
      "        [ 0.1705],\n",
      "        [ 0.1539],\n",
      "        [ 0.1351]], grad_fn=<AddmmBackward0>)\n"
     ]
    }
   ],
   "source": [
    "# Test\n",
    "model = SharedWeightNet()\n",
    "x = torch.randn(5, 10)\n",
    "output = model(x)\n",
    "print(output)"
   ]
  },
  {
   "cell_type": "markdown",
   "id": "3a3f5539-c198-43dc-96e0-4b528a07280a",
   "metadata": {},
   "source": [
    "This confirms both branches use the same memory address — same tensor."
   ]
  },
  {
   "cell_type": "code",
   "execution_count": 41,
   "id": "b46b2b82-5255-497c-a2c5-f6dbd7ed0734",
   "metadata": {},
   "outputs": [
    {
     "name": "stdout",
     "output_type": "stream",
     "text": [
      "True\n"
     ]
    }
   ],
   "source": [
    "print(model.branch1.weight.data_ptr() == model.branch2.weight.data_ptr())  # True"
   ]
  },
  {
   "cell_type": "markdown",
   "id": "f6e5e285-98bc-43bc-b549-e33730603eda",
   "metadata": {},
   "source": [
    "<b>Use Case: Siamese Network</b>"
   ]
  },
  {
   "cell_type": "markdown",
   "id": "4431e44e-5411-4695-9fb3-3f7962792698",
   "metadata": {},
   "source": [
    "A Siamese network is a deep learning architecture designed to compare two inputs by processing them through identical neural networks and measuring their similarity. It consists of two or more subnetworks (often called “twins”) that share the same parameters and weights, ensuring both inputs are transformed using the same feature extraction logic. The network outputs embeddings (numeric representations) for each input, and a similarity score is computed between them—for example, using cosine similarity or Euclidean distance. This approach is particularly useful for tasks where the relationship between pairs of data points matters more than individual classifications, such as face verification, signature matching, or detecting duplicate text.\n",
    "\n",
    "Training a Siamese network typically involves pairs or triplets of data. For example, in face recognition, the network might receive two images: a “positive” pair (same person) and a “negative” pair (different people). The goal is to minimize the distance between embeddings of similar pairs while maximizing it for dissimilar ones. Loss functions like contrastive loss or triplet loss enforce this behavior. Triplet loss, for instance, uses an anchor, a positive example (same class as anchor), and a negative example (different class), adjusting weights so the anchor is closer to the positive than the negative by a defined margin. This setup allows the network to learn meaningful features without requiring labeled class data for every possible input, making it efficient for scenarios with limited labeled data.\n",
    "\n",
    "Source: https://milvus.io/ai-quick-reference/what-is-a-siamese-network-in-deep-learning"
   ]
  },
  {
   "cell_type": "code",
   "execution_count": 42,
   "id": "7130ab12-a389-4a56-9e48-ce8c9850c069",
   "metadata": {},
   "outputs": [],
   "source": [
    "class Siamese(nn.Module):\n",
    "    def __init__(self):\n",
    "        super().__init__()\n",
    "        self.shared_encoder = nn.Sequential(\n",
    "            nn.Linear(100, 64),\n",
    "            nn.ReLU(),\n",
    "            nn.Linear(64, 32)\n",
    "        )\n",
    "\n",
    "        self.out = nn.Linear(32, 1)\n",
    "\n",
    "    def forward(self, x1, x2):\n",
    "        e1 = self.shared_encoder(x1)\n",
    "        e2 = self.shared_encoder(x2)\n",
    "        distance = torch.abs(e1 - e2)\n",
    "        return torch.sigmoid(self.out(distance))"
   ]
  },
  {
   "cell_type": "markdown",
   "id": "3385cafd-4087-44eb-822c-6bf5c5d7252b",
   "metadata": {},
   "source": [
    "<b>Use Case: Weight Tying in Autoencoders</b>"
   ]
  },
  {
   "cell_type": "markdown",
   "id": "c5e82283-a735-46c7-91e4-d9f4f00efae6",
   "metadata": {},
   "source": [
    "Tie decoder weights to the encoder. This ensures that the decoder always uses the transpose of the encoder weights (as in traditional tied autoencoders)."
   ]
  },
  {
   "cell_type": "code",
   "execution_count": 43,
   "id": "3cbfe26f-a618-421f-938e-5f7886f1fc0e",
   "metadata": {},
   "outputs": [],
   "source": [
    "class TiedAutoencoder(nn.Module):\n",
    "    def __init__(self):\n",
    "        super().__init__()\n",
    "        self.encoder = nn.Linear(784, 256)\n",
    "        self.decoder = nn.Linear(256, 784)\n",
    "\n",
    "        # Tie weights (transpose)\n",
    "        self.decoder.weight = nn.Parameter(self.encoder.weight.t())\n",
    "\n",
    "    def forward(self, x):\n",
    "        x = F.relu(self.encoder(x))\n",
    "        x = self.decoder(x)\n",
    "        return x"
   ]
  },
  {
   "cell_type": "markdown",
   "id": "ed069e19-a1b7-455d-a275-ee6ac0b22b52",
   "metadata": {},
   "source": [
    "Note that shared weights are different from copied weights."
   ]
  },
  {
   "cell_type": "code",
   "execution_count": 44,
   "id": "b7349378-32c0-4412-a964-98d11f82ac4d",
   "metadata": {},
   "outputs": [],
   "source": [
    "# This shares weights\n",
    "layer = nn.Linear(10, 10)\n",
    "a = layer\n",
    "b = layer\n",
    "\n",
    "# This doesn't share weights\n",
    "a = nn.Linear(10, 10)\n",
    "b = nn.Linear(10, 10)  # new weights"
   ]
  }
 ],
 "metadata": {
  "kernelspec": {
   "display_name": "Python 3 (ipykernel)",
   "language": "python",
   "name": "python3"
  },
  "language_info": {
   "codemirror_mode": {
    "name": "ipython",
    "version": 3
   },
   "file_extension": ".py",
   "mimetype": "text/x-python",
   "name": "python",
   "nbconvert_exporter": "python",
   "pygments_lexer": "ipython3",
   "version": "3.10.12"
  }
 },
 "nbformat": 4,
 "nbformat_minor": 5
}
