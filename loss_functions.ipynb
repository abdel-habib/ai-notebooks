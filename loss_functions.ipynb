{
 "cells": [
  {
   "cell_type": "markdown",
   "id": "deac9a8b-9f78-4d34-992f-311c728c3b65",
   "metadata": {},
   "source": [
    "Experimenting and re-implementing different loss functions. "
   ]
  },
  {
   "cell_type": "code",
   "execution_count": 151,
   "id": "b29848de-d894-4206-9540-558674408a5b",
   "metadata": {},
   "outputs": [],
   "source": [
    "import torch\n",
    "import torch.nn as nn\n",
    "import torch.nn.functional as F\n",
    "from PIL import Image\n",
    "import requests\n",
    "\n",
    "import numpy as np\n",
    "\n",
    "from utils.plots import plot_similarity_heatmap\n",
    "\n",
    "%load_ext autoreload\n",
    "%autoreload 2"
   ]
  },
  {
   "cell_type": "code",
   "execution_count": 60,
   "id": "06113bdb-52b7-443f-a5a6-2808989ee46c",
   "metadata": {},
   "outputs": [],
   "source": [
    "device = torch.device(\"cuda\" if torch.cuda.is_available() else \"cpu\")"
   ]
  },
  {
   "cell_type": "markdown",
   "id": "4cf56133-d125-4670-b5a7-fdc51f63d66e",
   "metadata": {},
   "source": [
    "#### Binary Cross-Entropy / Log Loss"
   ]
  },
  {
   "cell_type": "markdown",
   "id": "ac77704c-1072-4199-9a6c-94dd2b641f4e",
   "metadata": {},
   "source": [
    "Binary cross-entropy (log loss) is a loss function used in **binary classification problems**.  It quantifies the difference between the actual class labels (0 or 1) and the predicted probabilities output by the model. The lower the binary cross-entropy value, the better the model’s predictions align with the true labels."
   ]
  },
  {
   "cell_type": "markdown",
   "id": "b4e6d6d7-56ed-4d96-a95e-8e0d22fcd33b",
   "metadata": {},
   "source": [
    "Binary Cross-Entropy measures the distance between the true labels and the predicted probabilities. When the predicted probability is close to the actual label, the BCE value is low, indicating a good prediction. Conversely, when the predicted probability deviates significantly from the actual label, the BCE value is high, indicating a poor prediction. The logarithmic component of the BCE function penalizes wrong predictions more heavily than correct ones."
   ]
  },
  {
   "cell_type": "code",
   "execution_count": 3,
   "id": "797bdd8f-d093-4e86-9edd-ecf13054e9c4",
   "metadata": {},
   "outputs": [],
   "source": [
    "y_true = torch.tensor([0, 1, 1, 1], dtype=torch.float32)\n",
    "y_pred = torch.tensor([0.1, 0.9, 0.8, 0.3], dtype=torch.float32) # model’s output is a probability between 0 and 1\n",
    "\n",
    "y_true_np = y_true.numpy()\n",
    "y_pred_np = y_pred.numpy()"
   ]
  },
  {
   "cell_type": "code",
   "execution_count": 4,
   "id": "fb6bfacb-75c6-4bf5-b4cf-2faf4c662629",
   "metadata": {},
   "outputs": [],
   "source": [
    "def bce(y_true, y_pred):   \n",
    "    eps = 1e-9\n",
    "    y_pred = np.clip(y_pred, eps, 1-eps)\n",
    "    return -np.mean(y_true*np.log(y_pred) + (1 - y_true)*np.log(1 - y_pred))\n",
    "\n",
    "loss = F.binary_cross_entropy(y_pred, y_true)\n",
    "loss_bce = bce(y_true_np, y_pred_np)\n",
    "\n",
    "assert np.allclose(loss, loss_bce), \"Incorrect implementation\""
   ]
  },
  {
   "cell_type": "markdown",
   "id": "fcc45d61-5a01-483f-8e4b-7418fae95af3",
   "metadata": {},
   "source": [
    "#### Mean Squared Error (MSE) / L2 Loss"
   ]
  },
  {
   "cell_type": "markdown",
   "id": "9321a13f-4cfc-48d7-990a-f2b36fd211e6",
   "metadata": {},
   "source": [
    "MSE quantifies the magnitude of the error between an algorithm prediction and an actual output by taking the average of the squared difference between the predictions and the target values. It is useful for **regression tasks**, particularly when we want to penalize larger errors more heavily."
   ]
  },
  {
   "cell_type": "code",
   "execution_count": 5,
   "id": "5be21d28-fd6f-4e1d-885d-2b238f958af4",
   "metadata": {},
   "outputs": [],
   "source": [
    "def mse(y_true, y_pred): \n",
    "    return np.mean((y_true - y_pred) ** 2)\n",
    "\n",
    "loss = F.mse_loss(y_pred, y_true)\n",
    "loss_mse = mse(y_true_np, y_pred_np)\n",
    "\n",
    "assert np.allclose(loss, loss_mse), \"Incorrect implementation\""
   ]
  },
  {
   "cell_type": "markdown",
   "id": "87ed8c90-2aa2-4f3f-82fb-1cf739ba1ffd",
   "metadata": {},
   "source": [
    "#### Mean Absolute Error (MAE) / L1 Loss"
   ]
  },
  {
   "cell_type": "markdown",
   "id": "360128fc-c58d-40cb-b05e-d9fc9c89c8d4",
   "metadata": {},
   "source": [
    "Used in **regression tasks** that calculates the average absolute differences between predicted values from a machine learning model and the actual target values. Unlike Mean Squared Error (MSE), MAE does not square the differences, treating all errors with equal weight regardless of their magnitude, making it less sensitive to outliers.\n"
   ]
  },
  {
   "cell_type": "code",
   "execution_count": 6,
   "id": "1cac6c08-ac9a-4f47-8761-9feb785c8b66",
   "metadata": {},
   "outputs": [],
   "source": [
    "def mae(y_true, y_pred): \n",
    "    return np.mean(np.abs(y_true - y_pred))\n",
    "\n",
    "loss = F.l1_loss(y_pred, y_true)\n",
    "loss_mae = mae(y_true_np, y_pred_np)\n",
    "\n",
    "assert np.allclose(loss, loss_mae), \"Incorrect implementation\""
   ]
  },
  {
   "cell_type": "markdown",
   "id": "c171385f-c811-4362-9792-6f951495cf04",
   "metadata": {},
   "source": [
    "#### Dice Loss"
   ]
  },
  {
   "cell_type": "markdown",
   "id": "bc727996-4a65-4fc3-b626-68c99bc25955",
   "metadata": {},
   "source": [
    "Used in **image segmentation tasks**, widely used to segment both 2D and 3D medical images."
   ]
  },
  {
   "cell_type": "code",
   "execution_count": 81,
   "id": "3429b2c5-4a2b-4e94-9f29-ed56aace6344",
   "metadata": {},
   "outputs": [],
   "source": [
    "class DiceLoss(nn.Module):\n",
    "    def __init__(self, smooth=1e-6):\n",
    "        super(DiceLoss, self).__init__()\n",
    "        self.smooth = smooth\n",
    "\n",
    "    def forward(self, preds, targets):\n",
    "        # Flatten predictions and targets per sample\n",
    "        num = preds.size(0)  # batch size\n",
    "\n",
    "        # Flattens into [num, N] shape where N = C × D × H × W or C × H × W.\n",
    "        preds = preds.contiguous().view(num, -1)\n",
    "        targets = targets.contiguous().view(num, -1)\n",
    "        \n",
    "        intersection = (preds * targets).sum(dim=1)\n",
    "        dice = (2. * intersection + self.smooth) / \\\n",
    "               (preds.sum(dim=1) + targets.sum(dim=1) + self.smooth)\n",
    "\n",
    "        loss = 1 - dice  # Dice loss\n",
    "        return loss.mean()\n",
    "\n",
    "dice_loss = DiceLoss()"
   ]
  },
  {
   "cell_type": "code",
   "execution_count": 83,
   "id": "d83a3d74-a08b-49f5-85f7-a2f12576b160",
   "metadata": {},
   "outputs": [
    {
     "name": "stdout",
     "output_type": "stream",
     "text": [
      "pred_2d shape:  torch.Size([2, 1, 4, 4])\n",
      "target_2d shape:  torch.Size([2, 1, 4, 4])\n",
      "pred_3d shape:  torch.Size([1, 1, 2, 3, 3])\n",
      "target_3d shape:  torch.Size([1, 1, 2, 3, 3])\n",
      "tensor(0.0625) tensor(0.0526)\n"
     ]
    }
   ],
   "source": [
    "# [2, 1, 4, 4], Batch of 2, single channel, 4x4\n",
    "pred_2d = torch.tensor([[[[0, 1, 0, 1],\n",
    "                            [1, 1, 0, 0],\n",
    "                            [0, 0, 1, 1],\n",
    "                            [1, 0, 1, 0]]],\n",
    "                          \n",
    "                          [[[0, 1, 1, 0],\n",
    "                            [1, 0, 0, 1],\n",
    "                            [0, 1, 1, 0],\n",
    "                            [1, 1, 0, 0]]]], dtype=torch.float32)\n",
    "\n",
    "target_2d = torch.tensor([[[[0, 1, 0, 1],\n",
    "                              [1, 1, 0, 0],\n",
    "                              [0, 0, 1, 1],\n",
    "                              [1, 0, 1, 0]]],\n",
    "                            \n",
    "                            [[[1, 1, 1, 0],\n",
    "                              [1, 0, 0, 1],\n",
    "                              [0, 1, 0, 0],\n",
    "                              [1, 1, 0, 0]]]], dtype=torch.float32)\n",
    "\n",
    "print(\"pred_2d shape: \", pred_2d.shape)\n",
    "print(\"target_2d shape: \", target_2d.shape)\n",
    "\n",
    "# [1, 1, 2, 3, 3] Batch of 1, single channel, depth=2, 3x3\n",
    "# N, C, D, H, W > batch_size=1, channels=1, depth=2 (number of slices), height=3, width=3\n",
    "pred_3d = torch.tensor([[[[[0, 1, 1],\n",
    "                          [1, 0, 0],\n",
    "                          [0, 1, 0]],\n",
    "                         \n",
    "                         [[1, 1, 0],\n",
    "                          [0, 1, 0],\n",
    "                          [1, 0, 1]]]]], dtype=torch.float32)\n",
    "\n",
    "target_3d = torch.tensor([[[[[0, 1, 1],\n",
    "                            [1, 0, 0],\n",
    "                            [0, 1, 0]],\n",
    "                           \n",
    "                           [[1, 1, 0],\n",
    "                            [1, 1, 0],\n",
    "                            [1, 0, 1]]]]], dtype=torch.float32)\n",
    "\n",
    "print(\"pred_3d shape: \", pred_3d.shape)\n",
    "print(\"target_3d shape: \", target_3d.shape)\n",
    "\n",
    "loss_value_2d = dice_loss(pred_2d, target_2d)\n",
    "loss_value_3d = dice_loss(pred_3d, target_3d)\n",
    "\n",
    "print(loss_value_2d, loss_value_3d)"
   ]
  },
  {
   "cell_type": "markdown",
   "id": "f211601d-ade0-4943-8169-e6514a458a47",
   "metadata": {},
   "source": [
    "#### Contrastive Loss"
   ]
  },
  {
   "cell_type": "markdown",
   "id": "cffb2cfb-41d6-4462-985d-4d93188666a1",
   "metadata": {},
   "source": [
    "Contrastive loss is a loss function that is used to learn cross-modal embeddings. It is commonly applied in tasks that focus on comparing the similarity or dissimilarity of vectors. The goal of contrastive loss is to bring similar instances closer together in the embedding space and push apart dissimilar instances. <b>Below is the implementation of InfoNCE / CLIP-style Contrastive Loss (softmax + logits)</b>."
   ]
  },
  {
   "cell_type": "markdown",
   "id": "ac05b037-0c7a-42f8-8558-8e33aa6e8fb7",
   "metadata": {},
   "source": [
    "How CLIP works in a multi-modal space is summarized in the diagram below."
   ]
  },
  {
   "cell_type": "markdown",
   "id": "e12b2fb8-2e56-4a29-a61a-a91b5774c062",
   "metadata": {},
   "source": [
    "```text\n",
    "[Image] ---> [ImageEncoder] ---> image_features -----┐\n",
    "                                                     │\n",
    "[Text]  ---> [TextEncoder] ---> text_features  ------┴---> [compute_logits] ---> [ContrastiveLoss]\n",
    "```\n"
   ]
  },
  {
   "cell_type": "markdown",
   "id": "ca23642c-4924-456e-ad6e-d93017e935b4",
   "metadata": {},
   "source": [
    "As we are using the contrastive loss that was used in CLIP, we can use the model weights from HuggingFace and process images and text with it."
   ]
  },
  {
   "cell_type": "code",
   "execution_count": 65,
   "id": "314d6544-6b2b-4860-92c3-5c342e5707d9",
   "metadata": {},
   "outputs": [
    {
     "data": {
      "text/plain": [
       "CLIPModel(\n",
       "  (text_model): CLIPTextTransformer(\n",
       "    (embeddings): CLIPTextEmbeddings(\n",
       "      (token_embedding): Embedding(49408, 512)\n",
       "      (position_embedding): Embedding(77, 512)\n",
       "    )\n",
       "    (encoder): CLIPEncoder(\n",
       "      (layers): ModuleList(\n",
       "        (0-11): 12 x CLIPEncoderLayer(\n",
       "          (self_attn): CLIPAttention(\n",
       "            (k_proj): Linear(in_features=512, out_features=512, bias=True)\n",
       "            (v_proj): Linear(in_features=512, out_features=512, bias=True)\n",
       "            (q_proj): Linear(in_features=512, out_features=512, bias=True)\n",
       "            (out_proj): Linear(in_features=512, out_features=512, bias=True)\n",
       "          )\n",
       "          (layer_norm1): LayerNorm((512,), eps=1e-05, elementwise_affine=True)\n",
       "          (mlp): CLIPMLP(\n",
       "            (activation_fn): QuickGELUActivation()\n",
       "            (fc1): Linear(in_features=512, out_features=2048, bias=True)\n",
       "            (fc2): Linear(in_features=2048, out_features=512, bias=True)\n",
       "          )\n",
       "          (layer_norm2): LayerNorm((512,), eps=1e-05, elementwise_affine=True)\n",
       "        )\n",
       "      )\n",
       "    )\n",
       "    (final_layer_norm): LayerNorm((512,), eps=1e-05, elementwise_affine=True)\n",
       "  )\n",
       "  (vision_model): CLIPVisionTransformer(\n",
       "    (embeddings): CLIPVisionEmbeddings(\n",
       "      (patch_embedding): Conv2d(3, 768, kernel_size=(32, 32), stride=(32, 32), bias=False)\n",
       "      (position_embedding): Embedding(50, 768)\n",
       "    )\n",
       "    (pre_layrnorm): LayerNorm((768,), eps=1e-05, elementwise_affine=True)\n",
       "    (encoder): CLIPEncoder(\n",
       "      (layers): ModuleList(\n",
       "        (0-11): 12 x CLIPEncoderLayer(\n",
       "          (self_attn): CLIPAttention(\n",
       "            (k_proj): Linear(in_features=768, out_features=768, bias=True)\n",
       "            (v_proj): Linear(in_features=768, out_features=768, bias=True)\n",
       "            (q_proj): Linear(in_features=768, out_features=768, bias=True)\n",
       "            (out_proj): Linear(in_features=768, out_features=768, bias=True)\n",
       "          )\n",
       "          (layer_norm1): LayerNorm((768,), eps=1e-05, elementwise_affine=True)\n",
       "          (mlp): CLIPMLP(\n",
       "            (activation_fn): QuickGELUActivation()\n",
       "            (fc1): Linear(in_features=768, out_features=3072, bias=True)\n",
       "            (fc2): Linear(in_features=3072, out_features=768, bias=True)\n",
       "          )\n",
       "          (layer_norm2): LayerNorm((768,), eps=1e-05, elementwise_affine=True)\n",
       "        )\n",
       "      )\n",
       "    )\n",
       "    (post_layernorm): LayerNorm((768,), eps=1e-05, elementwise_affine=True)\n",
       "  )\n",
       "  (visual_projection): Linear(in_features=768, out_features=512, bias=False)\n",
       "  (text_projection): Linear(in_features=512, out_features=512, bias=False)\n",
       ")"
      ]
     },
     "execution_count": 65,
     "metadata": {},
     "output_type": "execute_result"
    }
   ],
   "source": [
    "# Only import here since we won't need it in other sections\n",
    "from transformers import CLIPProcessor, CLIPModel\n",
    "\n",
    "# 1. Load pretrained CLIP model\n",
    "model = CLIPModel.from_pretrained(\"openai/clip-vit-base-patch32\")\n",
    "processor = CLIPProcessor.from_pretrained(\"openai/clip-vit-base-patch32\")\n",
    "model.eval()"
   ]
  },
  {
   "cell_type": "code",
   "execution_count": 143,
   "id": "85230f23-0f3d-429f-b6ae-6db6486ab4d7",
   "metadata": {},
   "outputs": [],
   "source": [
    "# 2. Sample inputs (can use 2-3 images and captions)\n",
    "image_urls = [\n",
    "    \"https://images.pexels.com/photos/220938/pexels-photo-220938.jpeg\",  # dog\n",
    "    \"https://images.pexels.com/photos/45201/kitty-cat-kitten-pet-45201.jpeg\"   # cat\n",
    "]\n",
    "text_inputs = [\"a photo of a dog\", \"a photo of a cat\"]\n",
    "\n",
    "# 3. Load images\n",
    "images = [Image.open(requests.get(url, stream=True).raw).convert(\"RGB\") for url in image_urls]\n",
    "\n",
    "# 4. Preprocess inputs\n",
    "inputs = processor(text=text_inputs, images=images, return_tensors=\"pt\", padding=True)"
   ]
  },
  {
   "cell_type": "code",
   "execution_count": 144,
   "id": "53869904-4e3a-4157-91a1-5b6610f52a76",
   "metadata": {},
   "outputs": [
    {
     "data": {
      "text/plain": [
       "{'data': {'input_ids': tensor([[49406,   320,  1125,   539,   320,  1929, 49407],\n",
       "          [49406,   320,  1125,   539,   320,  2368, 49407]]),\n",
       "  'attention_mask': tensor([[1, 1, 1, 1, 1, 1, 1],\n",
       "          [1, 1, 1, 1, 1, 1, 1]]),\n",
       "  'pixel_values': tensor([[[[ 0.8938,  0.8938,  0.9084,  ...,  0.8938,  0.8938,  0.8938],\n",
       "            [ 0.9084,  0.9084,  0.9084,  ...,  0.8938,  0.8938,  0.8938],\n",
       "            [ 0.9084,  0.9084,  0.9084,  ...,  0.9084,  0.8938,  0.8938],\n",
       "            ...,\n",
       "            [ 0.6603,  0.6603,  0.6749,  ..., -1.7193, -1.6901, -1.6171],\n",
       "            [ 0.6603,  0.6603,  0.6603,  ..., -1.6901, -1.7047, -1.5733],\n",
       "            [ 0.6311,  0.6311,  0.6311,  ..., -1.6901, -1.6901, -1.5879]],\n",
       "  \n",
       "           [[ 0.9943,  0.9943,  1.0093,  ...,  1.0243,  1.0243,  1.0243],\n",
       "            [ 1.0093,  1.0093,  1.0093,  ...,  1.0243,  1.0243,  1.0243],\n",
       "            [ 1.0093,  1.0093,  1.0093,  ...,  1.0393,  1.0243,  1.0243],\n",
       "            ...,\n",
       "            [ 0.7842,  0.7842,  0.7992,  ..., -1.6771, -1.6621, -1.5870],\n",
       "            [ 0.7842,  0.7842,  0.7842,  ..., -1.6621, -1.6771, -1.5420],\n",
       "            [ 0.7542,  0.7542,  0.7542,  ..., -1.6771, -1.6470, -1.5420]],\n",
       "  \n",
       "           [[ 1.1932,  1.1932,  1.2074,  ...,  1.2074,  1.2074,  1.2074],\n",
       "            [ 1.2074,  1.2074,  1.2074,  ...,  1.2074,  1.2074,  1.2074],\n",
       "            [ 1.2074,  1.2074,  1.2074,  ...,  1.2216,  1.2074,  1.2074],\n",
       "            ...,\n",
       "            [ 0.9514,  0.9514,  0.9656,  ..., -1.4518, -1.4376, -1.3522],\n",
       "            [ 0.9514,  0.9514,  0.9514,  ..., -1.3949, -1.4233, -1.3096],\n",
       "            [ 0.9230,  0.9230,  0.9230,  ..., -1.3807, -1.3807, -1.2954]]],\n",
       "  \n",
       "  \n",
       "          [[[-1.7923, -1.7923, -1.7923,  ..., -1.7193, -1.7047, -1.6609],\n",
       "            [-1.7923, -1.7923, -1.7923,  ..., -1.7047, -1.7047, -1.6755],\n",
       "            [-1.7923, -1.7923, -1.7923,  ..., -1.7047, -1.7047, -1.6901],\n",
       "            ...,\n",
       "            [-1.2959, -1.1353, -1.0185,  ..., -0.8580, -0.4930, -1.0039],\n",
       "            [-1.2521, -1.0769, -1.0331,  ..., -0.8142, -0.8872, -1.1353],\n",
       "            [-1.1645, -1.0331, -1.0039,  ..., -0.8726, -1.0331, -1.1937]],\n",
       "  \n",
       "           [[-1.7521, -1.7521, -1.7521,  ..., -1.7521, -1.7371, -1.7521],\n",
       "            [-1.7521, -1.7521, -1.7521,  ..., -1.7371, -1.7371, -1.7521],\n",
       "            [-1.7521, -1.7521, -1.7521,  ..., -1.7371, -1.7371, -1.7371],\n",
       "            ...,\n",
       "            [-1.5270, -1.4069, -1.3319,  ..., -1.0167, -0.4164, -1.0767],\n",
       "            [-1.4970, -1.3769, -1.3619,  ..., -0.9867, -0.9867, -1.2418],\n",
       "            [-1.4219, -1.3469, -1.3319,  ..., -1.0467, -1.1818, -1.3469]],\n",
       "  \n",
       "           [[-1.4802, -1.4802, -1.4802,  ..., -1.4802, -1.4802, -1.4802],\n",
       "            [-1.4802, -1.4802, -1.4802,  ..., -1.4802, -1.4802, -1.4802],\n",
       "            [-1.4802, -1.4802, -1.4802,  ..., -1.4802, -1.4802, -1.4802],\n",
       "            ...,\n",
       "            [-1.4376, -1.3522, -1.2669,  ..., -0.9541, -0.3426, -0.9967],\n",
       "            [-1.4233, -1.3238, -1.2954,  ..., -0.9114, -0.8830, -1.1532],\n",
       "            [-1.3665, -1.3096, -1.2669,  ..., -0.9541, -1.0678, -1.2243]]]])},\n",
       " '_encodings': [Encoding(num_tokens=7, attributes=[ids, type_ids, tokens, offsets, attention_mask, special_tokens_mask, overflowing]),\n",
       "  Encoding(num_tokens=7, attributes=[ids, type_ids, tokens, offsets, attention_mask, special_tokens_mask, overflowing])],\n",
       " '_n_sequences': 1}"
      ]
     },
     "execution_count": 144,
     "metadata": {},
     "output_type": "execute_result"
    }
   ],
   "source": [
    "inputs.__dict__"
   ]
  },
  {
   "cell_type": "code",
   "execution_count": 145,
   "id": "d863dd7d-b49c-48cc-8a13-44d4509b4cb4",
   "metadata": {},
   "outputs": [
    {
     "name": "stdout",
     "output_type": "stream",
     "text": [
      "tensor(0.1506) tensor(-0.6722)\n",
      "torch.Size([2, 512])\n"
     ]
    }
   ],
   "source": [
    "# 5. Forward pass to get embeddings\n",
    "with torch.no_grad():\n",
    "    outputs = model(**inputs)\n",
    "    image_features = outputs.image_embeds  # shape: [batch_size, embed_dim]\n",
    "    text_features = outputs.text_embeds    # shape: [batch_size, embed_dim]\n",
    "\n",
    "print(image_features.max(), image_features.min())\n",
    "print(image_features.shape)"
   ]
  },
  {
   "cell_type": "code",
   "execution_count": 146,
   "id": "9e11620f-b481-42b1-a8fd-aa9df44e805c",
   "metadata": {},
   "outputs": [
    {
     "name": "stdout",
     "output_type": "stream",
     "text": [
      "tensor(0.1506) tensor(-0.6722)\n",
      "torch.Size([2, 512])\n"
     ]
    }
   ],
   "source": [
    "# 6. Normalise the features\n",
    "image_features = image_features / image_features.norm(dim=-1, keepdim=True) # [n, output_projection_dimension]\n",
    "text_features  = text_features  / text_features.norm(dim=-1, keepdim=True)  # [n, output_projection_dimension]\n",
    "\n",
    "print(image_features.max(), image_features.min())\n",
    "print(image_features.shape) # batch of 2"
   ]
  },
  {
   "cell_type": "code",
   "execution_count": 147,
   "id": "e1050266-cf28-4348-addb-9848f30c7208",
   "metadata": {},
   "outputs": [],
   "source": [
    "# 7. Compute logits manually\n",
    "temperature = model.logit_scale.exp().item()\n",
    "logits_per_image = image_features @ text_features.T * temperature\n",
    "logits_per_text = text_features @ image_features.T * temperature"
   ]
  },
  {
   "cell_type": "markdown",
   "id": "318c3834-43fd-4c59-85ca-f03a09326104",
   "metadata": {},
   "source": [
    "Loss implementation is as following:"
   ]
  },
  {
   "cell_type": "code",
   "execution_count": 148,
   "id": "c562ab15-e3db-48f1-bac9-e975e4e39066",
   "metadata": {},
   "outputs": [],
   "source": [
    "class ContrastiveLoss(nn.Module):\n",
    "    def __init__(self):\n",
    "        super().__init__()\n",
    "\n",
    "    def forward(self, logits_per_image, logits_per_text, **kwargs):\n",
    "        '''\n",
    "        Model outputs (input to the loss) could include other values beside the logits. This forward method extracts both logits and computes the final loss value.\n",
    "\n",
    "        Returns:\n",
    "            loss (tensor): loss value.\n",
    "            labels (tensor): labels, that are range 0:n-1, where n is the batch size.\n",
    "        '''\n",
    "        n, _ = logits_per_image.shape # [n=batch_size]\n",
    "\n",
    "        # symmetric loss function\n",
    "        labels = torch.arange(n).cuda()\n",
    "        loss_i = F.cross_entropy(logits_per_image, labels)\n",
    "        loss_t = F.cross_entropy(logits_per_text, labels)\n",
    "\n",
    "        loss = (loss_i+loss_t)/2\n",
    "        return loss, labels"
   ]
  },
  {
   "cell_type": "markdown",
   "id": "8cc219be-1dc0-4ffe-90b3-f6a49f0ae5e7",
   "metadata": {},
   "source": [
    "Testing the loss"
   ]
  },
  {
   "cell_type": "code",
   "execution_count": 149,
   "id": "ab11f616-5f59-4ddc-accb-91d808102c4d",
   "metadata": {},
   "outputs": [],
   "source": [
    "criterion = ContrastiveLoss().to(device)\n",
    "logits_per_image = logits_per_image.to(device)\n",
    "logits_per_text = logits_per_text.to(device)"
   ]
  },
  {
   "cell_type": "code",
   "execution_count": 150,
   "id": "12f0cefc-ca1b-4286-8c8d-3170645c3ff0",
   "metadata": {},
   "outputs": [
    {
     "name": "stdout",
     "output_type": "stream",
     "text": [
      "Contrastive Loss: 0.001756809651851654\n"
     ]
    }
   ],
   "source": [
    "criterion = ContrastiveLoss()\n",
    "loss, labels = criterion(logits_per_image, logits_per_text)\n",
    "print(\"Contrastive Loss:\", loss.item())"
   ]
  },
  {
   "cell_type": "markdown",
   "id": "887c81b8-61b7-411a-8fd2-be27b4ae049b",
   "metadata": {},
   "source": [
    "The contrastive loss obtained from matching paired images and text is low, thus indicating high similarity! We can also visualize the logits per image in a heatmap."
   ]
  },
  {
   "cell_type": "code",
   "execution_count": 152,
   "id": "8ed22ec4-aaa0-4842-a393-e8e363a29363",
   "metadata": {},
   "outputs": [
    {
     "data": {
      "image/png": "[encoded data removed]",
      "text/plain": [
       "<Figure size 600x500 with 2 Axes>"
      ]
     },
     "metadata": {},
     "output_type": "display_data"
    }
   ],
   "source": [
    "# Example labels\n",
    "image_labels = [\"Image 1\", \"Image 2\"]\n",
    "text_labels = text_inputs\n",
    "\n",
    "# Visualize\n",
    "plot_similarity_heatmap(logits_per_image, image_labels, text_labels)"
   ]
  }
 ],
 "metadata": {
  "kernelspec": {
   "display_name": "Python 3 (ipykernel)",
   "language": "python",
   "name": "python3"
  },
  "language_info": {
   "codemirror_mode": {
    "name": "ipython",
    "version": 3
   },
   "file_extension": ".py",
   "mimetype": "text/x-python",
   "name": "python",
   "nbconvert_exporter": "python",
   "pygments_lexer": "ipython3",
   "version": "3.10.12"
  }
 },
 "nbformat": 4,
 "nbformat_minor": 5
}
