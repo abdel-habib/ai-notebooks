{
 "cells": [
  {
   "cell_type": "markdown",
   "id": "e1e8dbf2-8631-41dc-a888-29f3b07fdbbe",
   "metadata": {},
   "source": [
    "Keeping some notes, very basic statistical foundations, and some math-to-code annotations that are repeated in papers for reference. \n",
    "\n",
    "Always good to refresh from time to time."
   ]
  },
  {
   "cell_type": "markdown",
   "id": "347e8de3-a67c-4b8d-a817-aaea806bec06",
   "metadata": {},
   "source": [
    "Denoting for any usage later some variables ~\n",
    "<br>\n",
    "<em>X</em> -> <em>X<sub>n</sub></em> -> <em>input variable</em> / <em>predictors</em> / <em>independent variables</em> / <em>features</em> / <em>variables</em>\n",
    "<br>\n",
    "<em>Y</em> -> <em>otput variable</em> / <em>response</em> / <em>dependent variables</em>\n",
    "\n",
    "<br>\n",
    "\n",
    "For a quantitative response <em>Y</em> and <em>p</em> different predictors, <em>X<sub>1</sub></em>, <em>X<sub>2</sub></em>, ..., <em>X<sub>n</sub></em>, we assume there is some relationship between <em>Y</em> and <em>X = (X<sub>1</sub>, X<sub>2</sub>, ..., X<sub>n</sub>)</em>, thus we can represent it in a function: \n",
    "\n",
    "<em>Y</em> = <em>f(X) + $\\epsilon$ </em>, where  $\\epsilon$ is epsilon, a random <em>error term</em>, that is independent of <em>X</em> and has mean zero."
   ]
  },
  {
   "cell_type": "code",
   "execution_count": null,
   "id": "d4803b31-7104-45ce-98eb-6fb4d3de6ffe",
   "metadata": {},
   "outputs": [],
   "source": []
  }
 ],
 "metadata": {
  "kernelspec": {
   "display_name": "Python 3 (ipykernel)",
   "language": "python",
   "name": "python3"
  },
  "language_info": {
   "codemirror_mode": {
    "name": "ipython",
    "version": 3
   },
   "file_extension": ".py",
   "mimetype": "text/x-python",
   "name": "python",
   "nbconvert_exporter": "python",
   "pygments_lexer": "ipython3",
   "version": "3.10.12"
  }
 },
 "nbformat": 4,
 "nbformat_minor": 5
}
