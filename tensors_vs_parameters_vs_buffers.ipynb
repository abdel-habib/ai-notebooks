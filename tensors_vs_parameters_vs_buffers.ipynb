{
 "cells": [
  {
   "cell_type": "markdown",
   "id": "2a00b2fd-449c-4af7-845b-9288063e27f5",
   "metadata": {},
   "source": [
    "An indepth example to understand the difference between a `torch.tensor` (require_grad = false/true), `nn.Parameter`, and buffers `register_buffer`."
   ]
  },
  {
   "cell_type": "code",
   "execution_count": 25,
   "id": "6e901402-7542-4c8b-afc7-86e9db3a41d1",
   "metadata": {},
   "outputs": [
    {
     "name": "stdout",
     "output_type": "stream",
     "text": [
      "The autoreload extension is already loaded. To reload it, use:\n",
      "  %reload_ext autoreload\n"
     ]
    }
   ],
   "source": [
    "import torch\n",
    "import torch.nn as nn\n",
    "import numpy as np\n",
    "import torch.nn.functional as F\n",
    "import matplotlib.pyplot as plt\n",
    "import torch.optim as optim\n",
    "import matplotlib.pyplot as plt\n",
    "\n",
    "%load_ext autoreload\n",
    "%autoreload 2"
   ]
  },
  {
   "cell_type": "markdown",
   "id": "c583c6db-f83a-48b0-94a6-0575cc13fda8",
   "metadata": {},
   "source": [
    "#### Tensors vs Parameters vs Buffers: What is the difference?"
   ]
  },
  {
   "cell_type": "markdown",
   "id": "cc6ca735-72e6-48d1-a780-ccfef040a60c",
   "metadata": {},
   "source": [
    "Parameters are Tensor subclasses, that have a very special property when used with Module s - when they’re assigned as Module attributes they are automatically added to the list of its parameters, and will appear e.g. in parameters() iterator. Buffers are Tensor subclasses, that have a very special property when used with Module s – when they’re assigned as Module attributes they are automatically added to the list of its buffers, and will appear e.g. in buffers() iterator. Assigning a Tensor doesn’t have such effect. One can still assign a Tensor as explicitly by using the register_buffer() function. Buffers act like persistent, non-trainable data that you want to associate with your module. They are saved and loaded as part of the model's state_dict, alongside trainable parameters."
   ]
  },
  {
   "cell_type": "markdown",
   "id": "94b7f03e-8609-4adf-af70-671fe8d0fcde",
   "metadata": {},
   "source": [
    "<b>Example 1</b>"
   ]
  },
  {
   "cell_type": "code",
   "execution_count": 3,
   "id": "d67b6d4c-06d0-4093-b904-707129b01f1d",
   "metadata": {},
   "outputs": [],
   "source": [
    "class CustomModule(nn.Module):\n",
    "    def __init__(self):\n",
    "        super().__init__()\n",
    "        \n",
    "        # 1. Plain Tensor (NOT registered at all)\n",
    "        self.plain_tensor = torch.tensor([1.0, 2.0, 3.0])  # requires_grad=False\n",
    "        \n",
    "        # 2. Plain Tensor with requires_grad=True (Still NOT registered!)\n",
    "        self.unregistered_tensor = torch.tensor([1.0, 2.0, 3.0], requires_grad=True)\n",
    "\n",
    "        # 3. nn.Parameter (WILL be registered as a learnable parameter)\n",
    "        self.learnable_param = nn.Parameter(torch.tensor([1.0, 2.0, 3.0]))\n",
    "\n",
    "        # 4. Buffer (NOT a parameter, but registered as persistent state)\n",
    "        self.register_buffer('running_average', torch.tensor([0.0, 0.0, 0.0]))\n",
    "\n",
    "    def forward(self, x):\n",
    "        # Use all values in some way\n",
    "        self.running_average = 0.9 * self.running_average + 0.1 * x.mean(dim=0)\n",
    "        return x * self.learnable_param.sum()  # Just some computation"
   ]
  },
  {
   "cell_type": "code",
   "execution_count": 4,
   "id": "32465bc8-fcfb-4be2-89e8-b085295601a9",
   "metadata": {},
   "outputs": [],
   "source": [
    "model = CustomModule()\n",
    "optimizer = optim.SGD(model.parameters(), lr=0.1)"
   ]
  },
  {
   "cell_type": "code",
   "execution_count": 5,
   "id": "34219734-7c4a-4a71-8bdf-aa18870f5202",
   "metadata": {},
   "outputs": [
    {
     "name": "stdout",
     "output_type": "stream",
     "text": [
      "Gradient of learnable_param: tensor([6., 6., 6.])\n",
      "Gradient of unregistered_tensor: None\n",
      "Buffer running_average: tensor([0.1000, 0.2000, 0.3000], grad_fn=<AddBackward0>)\n"
     ]
    }
   ],
   "source": [
    "# Dummy input\n",
    "x = torch.tensor([[1.0, 2.0, 3.0]], requires_grad=True)\n",
    "\n",
    "# Forward\n",
    "output = model(x)\n",
    "loss = output.sum()\n",
    "loss.backward()\n",
    "\n",
    "# Check gradients\n",
    "print(\"Gradient of learnable_param:\", model.learnable_param.grad)\n",
    "print(\"Gradient of unregistered_tensor:\", model.unregistered_tensor.grad)  # This stays None\n",
    "print(\"Buffer running_average:\", model.running_average)\n",
    "\n",
    "# Step optimizer\n",
    "optimizer.step()"
   ]
  },
  {
   "cell_type": "markdown",
   "id": "0bfa9570-e114-4e5e-b634-4360a8fdd5b0",
   "metadata": {},
   "source": [
    "As observed: \n",
    "* learnable_param.grad → Will have gradient, and its value will be updated by optimizer.\n",
    "* unregistered_tensor.grad → Is None. Even though requires_grad=True, it's not part of model.parameters(), so optimizer ignores it.\n",
    "* running_average → Gets updated inside forward() but has no gradients (and not learned). Still saved in state_dict().\n",
    "* plain_tensor → Is just a float tensor sitting in the class — not tracked, no gradients, not saved."
   ]
  },
  {
   "cell_type": "markdown",
   "id": "f6ef2b53-b496-423f-a751-7fda91c03834",
   "metadata": {},
   "source": [
    "We can see in depth inside the model state_dict, that both the parameters `learnable_param` as well as the registered buffer `running_average` are saved in `state_dict()`."
   ]
  },
  {
   "cell_type": "code",
   "execution_count": 7,
   "id": "0bc0b717-c67e-4db3-8263-1ff459e1397f",
   "metadata": {},
   "outputs": [
    {
     "data": {
      "text/plain": [
       "OrderedDict([('learnable_param', tensor([0.4000, 1.4000, 2.4000])),\n",
       "             ('running_average', tensor([0.1000, 0.2000, 0.3000]))])"
      ]
     },
     "execution_count": 7,
     "metadata": {},
     "output_type": "execute_result"
    }
   ],
   "source": [
    "model.state_dict()"
   ]
  },
  {
   "cell_type": "markdown",
   "id": "9e9ed80b-25bd-4b54-8428-20b4bb9d77e1",
   "metadata": {},
   "source": [
    "We can list down the registered buffers using `named_buffers()` and the parameters using `named_parameters()`."
   ]
  },
  {
   "cell_type": "code",
   "execution_count": 11,
   "id": "44705cf1-c306-4790-8ac3-9d93d4feb566",
   "metadata": {},
   "outputs": [
    {
     "name": "stdout",
     "output_type": "stream",
     "text": [
      "[('running_average', tensor([0.1000, 0.2000, 0.3000], grad_fn=<AddBackward0>))]\n",
      "[('learnable_param', Parameter containing:\n",
      "tensor([0.4000, 1.4000, 2.4000], requires_grad=True))]\n"
     ]
    }
   ],
   "source": [
    "print(list(model.named_buffers()))\n",
    "print(list(model.named_parameters()))"
   ]
  },
  {
   "cell_type": "markdown",
   "id": "70f7902f-dd89-490b-96b7-8d3187e2134e",
   "metadata": {},
   "source": [
    "<b> Example 2 </b>"
   ]
  },
  {
   "cell_type": "code",
   "execution_count": 12,
   "id": "986a7226-dec8-4611-96d4-b79e1ac888c6",
   "metadata": {},
   "outputs": [
    {
     "name": "stdout",
     "output_type": "stream",
     "text": [
      "Parameter: weight, Values: Parameter containing:\n",
      "tensor([[ 1.0101,  0.5176, -0.7210,  0.1325],\n",
      "        [ 0.8209,  0.1945,  1.9543, -0.1676],\n",
      "        [ 0.4792,  0.5259,  1.0869,  1.6193]], requires_grad=True), Requires Grad: True\n",
      "Parameter: bias, Values: Parameter containing:\n",
      "tensor([-0.2168,  0.8733,  0.0970, -0.8487], requires_grad=True), Requires Grad: True\n",
      "\n",
      "input: tensor([-0.1310, -0.0959, -0.5971]).\n",
      "output: tensor([-0.7139,  0.4728, -0.6449, -1.8169], grad_fn=<AddBackward0>)\n"
     ]
    }
   ],
   "source": [
    "# Here, the state consists of randomly-initialized weight and bias tensors that define the affine transformation. \n",
    "# Because each of these is defined as a Parameter, they are registered for the module and will automatically be tracked and \n",
    "# returned from calls to parameters()\n",
    "\n",
    "class LinearLayer(nn.Module):\n",
    "    def __init__(self, in_features, out_features):\n",
    "        super().__init__()\n",
    "        self.weight = nn.Parameter(torch.randn(in_features, out_features))\n",
    "        self.bias = nn.Parameter(torch.randn(out_features))\n",
    "        \n",
    "    def forward(self, input):\n",
    "        return (input @ self.weight) + self.bias\n",
    "\n",
    "linear_layer = LinearLayer(3, 4)\n",
    "\n",
    "# it is a generator object\n",
    "# print(linear_layer.parameters())\n",
    "\n",
    "# note that the parameters are given the names of the class declared parameter variables\n",
    "for name, param in linear_layer.named_parameters():\n",
    "    print(f\"Parameter: {name}, Values: {param}, Requires Grad: {param.requires_grad}\")\n",
    "\n",
    "x_input = torch.randn(3)\n",
    "y_output = linear_layer(x_input)\n",
    "print(f\"\\ninput: {x_input}.\\noutput: {y_output}\")"
   ]
  },
  {
   "cell_type": "code",
   "execution_count": 13,
   "id": "11601eb7-8f45-42d9-ba44-be16cbc56661",
   "metadata": {},
   "outputs": [
    {
     "name": "stdout",
     "output_type": "stream",
     "text": [
      "True\n",
      "True\n"
     ]
    }
   ],
   "source": [
    "# The parameter below\n",
    "param1 = nn.Parameter(torch.randn(3, 3)) # torch.Size([3, 3]), requires_grad=True as default\n",
    "print(param1.requires_grad)\n",
    "\n",
    "# is similar to ...\n",
    "tensor = torch.randn(3, 3, requires_grad= True) # Not a parameter!\n",
    "param2 = nn.Parameter(tensor)\n",
    "print(param2.requires_grad)\n",
    "\n",
    "# but tensor is not a parameter by it's own, meaning that it won't be found in the list of model.parameters()\n",
    "# thus, tensor is not registered as a trainable parameter\n",
    "\n",
    "# When a tensor is wrapped with nn.Parameter and assigned as an attribute of an nn.Module, \n",
    "# it's automatically added to the list returned by model.parameters() and model.named_parameters(), similar to the\n",
    "# example in the previous cell. The optimizer (e.g., torch.optim.Adam) will also update nn.Parameters during training.\n",
    "# Therefor, nn.Parameter allows you to introduce weights that are learnable.\n",
    "\n",
    "# Note, to freeze a parameter, we can use param.requires_grad = False\n",
    "# It will stay in model.parameters() but will not receive gradient updates."
   ]
  },
  {
   "cell_type": "markdown",
   "id": "9432cf2f-eead-4773-9886-5701284227d8",
   "metadata": {},
   "source": [
    "<b>Example 3</b>"
   ]
  },
  {
   "cell_type": "code",
   "execution_count": 15,
   "id": "dedcdae9-644b-4982-b5c8-30ec52b4d758",
   "metadata": {},
   "outputs": [],
   "source": [
    "class ModelWithBuffers(nn.Module):\n",
    "    def __init__(self, input_dim, hidden_dim, output_dim):\n",
    "        super().__init__()\n",
    "        self.fc1 = nn.Linear(input_dim, hidden_dim)\n",
    "        self.activation = nn.ReLU()\n",
    "        self.fc2 = nn.Linear(hidden_dim, output_dim)\n",
    "        \n",
    "        # Learnable parameter\n",
    "        self.scale = nn.Parameter(torch.tensor(1.0))\n",
    "        \n",
    "        # Buffers (not learnable but persistent)\n",
    "        self.register_buffer('ema_loss', torch.tensor(0.0))\n",
    "        self.register_buffer('global_step', torch.tensor(0))\n",
    "\n",
    "    def forward(self, x):\n",
    "        x = self.fc1(x)\n",
    "        x = self.activation(x)\n",
    "        x = self.fc2(x)\n",
    "        return self.scale * x\n",
    "\n",
    "    def update_ema(self, loss, momentum=0.95):\n",
    "        self.ema_loss = momentum * self.ema_loss + (1 - momentum) * loss.detach()\n",
    "        self.global_step += 1"
   ]
  },
  {
   "cell_type": "code",
   "execution_count": 16,
   "id": "81ba4ef4-f307-4333-981c-d2c634c1c8c8",
   "metadata": {},
   "outputs": [],
   "source": [
    "# Generate Dummy Data\n",
    "torch.manual_seed(0)\n",
    "X = torch.randn(100, 5)\n",
    "true_weights = torch.tensor([1.5, -2.0, 0.5, 3.0, -1.0])\n",
    "y = X @ true_weights + 0.1 * torch.randn(100)"
   ]
  },
  {
   "cell_type": "code",
   "execution_count": 20,
   "id": "ed966a15-802f-409c-83af-59e7b1edb2ec",
   "metadata": {},
   "outputs": [
    {
     "data": {
      "text/plain": [
       "(torch.Size([100, 5]), torch.Size([100]))"
      ]
     },
     "execution_count": 20,
     "metadata": {},
     "output_type": "execute_result"
    }
   ],
   "source": [
    "X.shape, y.shape"
   ]
  },
  {
   "cell_type": "code",
   "execution_count": 21,
   "id": "7d12ccc0-fa44-4cca-8fa2-94367464f6c9",
   "metadata": {},
   "outputs": [],
   "source": [
    "# Creating an instance for the model, optim, and loss\n",
    "model = ModelWithBuffers(input_dim=5, hidden_dim=10, output_dim=1)\n",
    "optimizer = optim.SGD(model.parameters(), lr=0.01)\n",
    "criterion = nn.MSELoss()"
   ]
  },
  {
   "cell_type": "code",
   "execution_count": 23,
   "id": "719c030c-9458-498e-a011-323e9a263cbb",
   "metadata": {},
   "outputs": [
    {
     "data": {
      "text/plain": [
       "ModelWithBuffers(\n",
       "  (fc1): Linear(in_features=5, out_features=10, bias=True)\n",
       "  (activation): ReLU()\n",
       "  (fc2): Linear(in_features=10, out_features=1, bias=True)\n",
       ")"
      ]
     },
     "execution_count": 23,
     "metadata": {},
     "output_type": "execute_result"
    }
   ],
   "source": [
    "model"
   ]
  },
  {
   "cell_type": "code",
   "execution_count": 24,
   "id": "c3f5cd89-35f7-4830-bfdf-05f93e0b4e53",
   "metadata": {},
   "outputs": [],
   "source": [
    "losses = []\n",
    "ema_losses = []\n",
    "\n",
    "for epoch in range(50):\n",
    "    optimizer.zero_grad()\n",
    "    outputs = model(X).squeeze()\n",
    "    loss = criterion(outputs, y)\n",
    "    loss.backward()\n",
    "    optimizer.step()\n",
    "    \n",
    "    model.update_ema(loss)\n",
    "\n",
    "    losses.append(loss.item())\n",
    "    ema_losses.append(model.ema_loss.item())"
   ]
  },
  {
   "cell_type": "code",
   "execution_count": 26,
   "id": "bb540e1a-2ab2-49e4-868c-35fd2e2fac65",
   "metadata": {},
   "outputs": [
    {
     "data": {
      "image/png": "[encoded data removed]",
      "text/plain": [
       "<Figure size 1000x500 with 1 Axes>"
      ]
     },
     "metadata": {},
     "output_type": "display_data"
    }
   ],
   "source": [
    "plt.figure(figsize=(10, 5))\n",
    "plt.plot(losses, label=\"Loss\")\n",
    "plt.plot(ema_losses, label=\"EMA of Loss\")\n",
    "plt.title(\"Training Loss vs EMA Loss (Buffer)\")\n",
    "plt.xlabel(\"Epoch\")\n",
    "plt.ylabel(\"Loss\")\n",
    "plt.legend()\n",
    "plt.grid(True)\n",
    "plt.tight_layout()\n",
    "plt.show()"
   ]
  },
  {
   "cell_type": "markdown",
   "id": "4eba803b-ae66-4e3f-9406-c1f3ec684765",
   "metadata": {},
   "source": [
    "Inspecting the buffers - it is useful to keep the `global_step` in the model `state_dict()` as a buffer to continue training when saving and loading the model `state_dict()`. `ema_loss` stores a moving average, useful for EMA-based stopping criteria or even learning rate scheduling. Buffers also move with the model on the same device."
   ]
  },
  {
   "cell_type": "code",
   "execution_count": 27,
   "id": "a69f7750-bd5f-48dd-aa69-9bfaae70a1ac",
   "metadata": {},
   "outputs": [
    {
     "name": "stdout",
     "output_type": "stream",
     "text": [
      "ema_loss: 5.099499702453613\n",
      "global_step: 50\n"
     ]
    }
   ],
   "source": [
    "# inspecting the buffers\n",
    "for name, buf in model.named_buffers():\n",
    "    print(f\"{name}: {buf}\")"
   ]
  },
  {
   "cell_type": "markdown",
   "id": "d8d3aabe-2740-4f53-9b20-c686d85ab52c",
   "metadata": {},
   "source": [
    "Saving and loading the model with parameters and buffers."
   ]
  },
  {
   "cell_type": "code",
   "execution_count": 28,
   "id": "2ea1aa4b-dbe8-4f76-a4f2-7806135d7e90",
   "metadata": {},
   "outputs": [],
   "source": [
    "# torch.save(model.state_dict(), \"model_with_buffers.pt\")\n",
    "# new_model = MyModelWithBuffers(5, 10, 1)\n",
    "# new_model.load_state_dict(torch.load(\"model_with_buffers.pt\"))"
   ]
  }
 ],
 "metadata": {
  "kernelspec": {
   "display_name": "Python 3 (ipykernel)",
   "language": "python",
   "name": "python3"
  },
  "language_info": {
   "codemirror_mode": {
    "name": "ipython",
    "version": 3
   },
   "file_extension": ".py",
   "mimetype": "text/x-python",
   "name": "python",
   "nbconvert_exporter": "python",
   "pygments_lexer": "ipython3",
   "version": "3.10.12"
  }
 },
 "nbformat": 4,
 "nbformat_minor": 5
}
