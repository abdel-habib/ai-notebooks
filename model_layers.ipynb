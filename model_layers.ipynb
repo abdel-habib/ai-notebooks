{
 "cells": [
  {
   "cell_type": "markdown",
   "id": "214283f2-bcb3-4736-a035-ed7abce02697",
   "metadata": {},
   "source": [
    "Experimenting and re-implementing different types of deep learning architecture layers."
   ]
  },
  {
   "cell_type": "code",
   "execution_count": 27,
   "id": "b412b4df-be16-4b4f-83b2-7ab62c96b73b",
   "metadata": {},
   "outputs": [
    {
     "name": "stdout",
     "output_type": "stream",
     "text": [
      "The autoreload extension is already loaded. To reload it, use:\n",
      "  %reload_ext autoreload\n"
     ]
    }
   ],
   "source": [
    "import torch\n",
    "import torch.nn as nn\n",
    "import numpy as np\n",
    "import torch.nn.functional as F\n",
    "import matplotlib.pyplot as plt\n",
    "import torch.nn as nn\n",
    "\n",
    "from utils.plots import linear_plot, plot_histograms\n",
    "from utils.model import trace_module_shapes\n",
    "\n",
    "%load_ext autoreload\n",
    "%autoreload 2"
   ]
  },
  {
   "cell_type": "markdown",
   "id": "93ea3bf7-1e71-4ea3-923f-eb00db75129c",
   "metadata": {},
   "source": [
    "#### Tracing Module Layers Shapes"
   ]
  },
  {
   "cell_type": "markdown",
   "id": "40adb503-27b1-4881-b7b8-c3baeb2ebef1",
   "metadata": {},
   "source": [
    "Implemented a helper function to quickly trace the intermediate shapes for layers/blocks/models/etc."
   ]
  },
  {
   "cell_type": "code",
   "execution_count": 80,
   "id": "1ed3c5ed-590e-4af2-a70f-e2ac1d40fe90",
   "metadata": {},
   "outputs": [
    {
     "name": "stdout",
     "output_type": "stream",
     "text": [
      "==========================================================================================\n",
      "Layer                Trainable            Input Shape                    Output Shape\n",
      "------------------------------------------------------------------------------------------\n",
      "Conv2d               True                 (8, 3, 32, 32)                 (8, 32, 32, 32)\n",
      "BatchNorm2d          True                 (8, 32, 32, 32)                (8, 32, 32, 32)\n",
      "ReLU                 True                 (8, 32, 32, 32)                (8, 32, 32, 32)\n",
      "Conv2d               True                 (8, 32, 32, 32)                (8, 32, 32, 32)\n",
      "BatchNorm2d          True                 (8, 32, 32, 32)                (8, 32, 32, 32)\n",
      "ReLU                 True                 (8, 32, 32, 32)                (8, 32, 32, 32)\n",
      "MaxPool2d            True                 (8, 32, 32, 32)                (8, 32, 16, 16)\n",
      "Conv2d               True                 (8, 32, 16, 16)                (8, 64, 16, 16)\n",
      "ReLU                 True                 (8, 64, 16, 16)                (8, 64, 16, 16)\n",
      "MaxPool2d            True                 (8, 64, 16, 16)                (8, 64, 8, 8)\n",
      "Flatten              True                 (8, 64, 8, 8)                  (8, 4096)\n",
      "Linear               True                 (8, 4096)                      (8, 128)\n",
      "ReLU                 True                 (8, 128)                       (8, 128)\n",
      "Linear               True                 (8, 128)                       (8, 10)\n",
      "==========================================================================================\n"
     ]
    }
   ],
   "source": [
    "class SimpleCNN(nn.Module):\n",
    "    def __init__(self, num_classes=10):\n",
    "        super().__init__()\n",
    "        self.conv_layers = nn.Sequential(\n",
    "            nn.Conv2d(3, 32, kernel_size=3, padding=1),  # 32x32x3 -> 32x32x32\n",
    "            nn.BatchNorm2d(32),\n",
    "            nn.ReLU(),\n",
    "            nn.Conv2d(32, 32, kernel_size=3, padding=1), # 32x32x32 -> 32x32x32\n",
    "            nn.BatchNorm2d(32),\n",
    "            nn.ReLU(),\n",
    "            nn.MaxPool2d(kernel_size=2, stride=2),       # -> 16x16x32\n",
    "            nn.Conv2d(32, 64, kernel_size=3, padding=1), # 16x16x32 -> 16x16x64\n",
    "            nn.ReLU(),\n",
    "            nn.MaxPool2d(2)                              # -> 8x8x64\n",
    "        )\n",
    "        # After conv_layers, feature map is 8x8 with 64 channels\n",
    "        self.fc_layers = nn.Sequential(\n",
    "            nn.Flatten(),                        # N x (64*8*8)\n",
    "            nn.Linear(64*8*8, 128),\n",
    "            nn.ReLU(),\n",
    "            nn.Linear(128, num_classes)         # output logits for classes\n",
    "        )\n",
    "    def forward(self, x):\n",
    "        x = self.conv_layers(x)\n",
    "        x = self.fc_layers(x)\n",
    "        return x\n",
    "\n",
    "x = torch.randn(8, 3, 32, 32)       # batch of 8 RGB images 32×32, C=3\n",
    "model = SimpleCNN(num_classes=10)\n",
    "\n",
    "trace_module_shapes(model, x)"
   ]
  },
  {
   "cell_type": "markdown",
   "id": "db4d4545-4cdc-4f6d-b71b-0539bcdb47b0",
   "metadata": {},
   "source": [
    "#### Batch Normalization (BatchNorm1D / 2D)"
   ]
  },
  {
   "cell_type": "markdown",
   "id": "e188be49-6b6a-481a-81df-e56ad2c46bde",
   "metadata": {},
   "source": [
    "Applies Batch Normalization over an input. Batch Normalization is a normalization technique that can be applied at the layer level. Put simply, it **normalizes the inputs to each layer to a learnt representation** likely close to: \\\\[ \\mu = 0.0, \\sigma = 1.0 \\\\] By consequence, all the layer inputs are normalized, and significant outliers are less likely to impact the training process in a negative way. And if they do, their impact will be much lower than without using Batch Normalization. BatchNorm1d is a specific implementation of Batch Normalization in PyTorch, designed for 1-dimensional data. The main idea behind Batch Normalization is to normalize the inputs of each layer in a neural network during training. It **helps us to mitigate the problem of internal covariate shift(the change in the distribution of activations within a neural network as training progresses)**.\n",
    "\n",
    "* One-dimensional BatchNormalization (`nn.BatchNorm1d`) applies Batch Normalization over a 2D or 3D input (a batch of 1D inputs with a possible channel dimension).\n",
    "* Two-dimensional BatchNormalization (`nn.BatchNorm2d`) applies it over a 4D input (a batch of 2D inputs with a possible channel dimension)."
   ]
  },
  {
   "cell_type": "code",
   "execution_count": 82,
   "id": "53de4377-889c-42a6-836d-fe459727b04b",
   "metadata": {},
   "outputs": [
    {
     "name": "stdout",
     "output_type": "stream",
     "text": [
      "Values sample before: tensor([ 7.6907, 13.0632, 14.8676,  7.1586, 14.2556, 16.5222,  9.0571,  9.6364,\n",
      "        11.2445, 17.4126]), with max: 23.4093 and min -7.5038\n",
      "Values sample after: tensor([-0.4550,  0.8476,  0.9901, -0.6105,  0.7522,  1.3516,  0.0476, -0.1081,\n",
      "         0.3633,  1.3914], grad_fn=<ViewBackward0>), with max: 2.7605 and min -3.2596\n"
     ]
    },
    {
     "data": {
      "image/png": "[encoded data removed]",
      "text/plain": [
       "<Figure size 1000x400 with 2 Axes>"
      ]
     },
     "metadata": {},
     "output_type": "display_data"
    },
    {
     "name": "stdout",
     "output_type": "stream",
     "text": [
      "==========================================================================================\n",
      "Layer                Trainable            Input Shape                    Output Shape\n",
      "------------------------------------------------------------------------------------------\n",
      "BatchNorm1d          True                 (100, 5)                       (100, 5)\n",
      "==========================================================================================\n"
     ]
    }
   ],
   "source": [
    "x = torch.randn(100, 5) * 5 + 10\n",
    "bn = nn.BatchNorm1d(5)\n",
    "x_bn = bn(x)\n",
    "\n",
    "print(f\"Values sample before: {x[:2].flatten()}, with max: {x.max():.4f} and min {x.min():.4f}\")\n",
    "print(f\"Values sample after: {x_bn[:2].flatten()}, with max: {x_bn.max():.4f} and min {x_bn.min():.4f}\")\n",
    "\n",
    "# Plot before and after\n",
    "plot_histograms(\n",
    "    [\n",
    "        {\n",
    "            \"name\": \"Original Feature Distribution\", \n",
    "            \"values\": x.numpy().flatten(),\n",
    "        },\n",
    "        {\n",
    "            \"name\": \"After BatchNorm\",\n",
    "            \"values\": x_bn.detach().numpy().flatten(),\n",
    "        }\n",
    "    ]\n",
    ")\n",
    "\n",
    "trace_module_shapes(bn, x)"
   ]
  },
  {
   "cell_type": "markdown",
   "id": "9e229d7f-0739-4198-98d2-c5a9d8376212",
   "metadata": {},
   "source": [
    "Crucially, **batch-norm layers do not change the shape of their input**. For `BatchNorm2d` on input (N,C,H,W), the output is also (N,C,H,W). Similarly, `LayerNorm` or `GroupNorm` preserve the tensor’s shape. <mark>**You typically apply BatchNorm immediately after a conv (or linear) layer, before the activation.**</mark>"
   ]
  },
  {
   "cell_type": "markdown",
   "id": "14e4341f-4ffb-4730-b2d2-fda5f17c8cb5",
   "metadata": {},
   "source": [
    "#### Convolutional Layers(Conv1d/Conv2d/Conv3d)"
   ]
  },
  {
   "cell_type": "markdown",
   "id": "12c51482-aaed-48a5-9da6-e25bb293c7db",
   "metadata": {},
   "source": [
    "A convolutional layer `nn.ConvXd` maps an input of shape $(N, C_{in}, …)$ to $(N, C_{out}, …)$, where $C_{out}$ is the number of filters (output channels)."
   ]
  },
  {
   "cell_type": "markdown",
   "id": "9fab8f28-af03-407a-bd35-ae89778c30b4",
   "metadata": {},
   "source": [
    "The number of output features in each dimension can be calculated using the following formula $n_{out}$ :"
   ]
  },
  {
   "attachments": {
    "e0f6178a-1e25-45ed-b4bd-cb001cd3c7fe.webp": {
     "image/webp": "[encoded data removed]"
    }
   },
   "cell_type": "markdown",
   "id": "6ef1d996-11ec-40db-b1b9-aa104f4676b4",
   "metadata": {},
   "source": [
    "![1_5IjtUJiHN9oUfNXLWgkh4w.webp](attachment:e0f6178a-1e25-45ed-b4bd-cb001cd3c7fe.webp)"
   ]
  },
  {
   "cell_type": "markdown",
   "id": "dd00ad62-fdb9-47d9-9744-e9bcfefbbcf2",
   "metadata": {},
   "source": [
    "Here $C_{out}=16$ filters produce an output shape `[8,16,32,32]` (same H/W thanks to padding). If instead `stride=2` or larger kernels/padding, the spatial size changes per the formula."
   ]
  },
  {
   "cell_type": "markdown",
   "id": "28ea0f6e-ee66-47ac-b903-0f3e8da7d020",
   "metadata": {},
   "source": [
    "$n_{in} = 32$ <br>\n",
    "$p = 1$ <br>\n",
    "$k = 3$ <br>\n",
    "$s = 1$ <br>\n",
    "\n",
    "$n_{out}$ = $[(32 + (2*1) - 3)/1]+1 = 32$"
   ]
  },
  {
   "cell_type": "code",
   "execution_count": 75,
   "id": "3d607546-86b6-40df-b0ac-7f42b578d24f",
   "metadata": {},
   "outputs": [
    {
     "name": "stdout",
     "output_type": "stream",
     "text": [
      "==========================================================================================\n",
      "Layer                Trainable            Input Shape                    Output Shape\n",
      "------------------------------------------------------------------------------------------\n",
      "Conv2d               True                 (8, 3, 32, 32)                 (8, 16, 32, 32)\n",
      "==========================================================================================\n"
     ]
    }
   ],
   "source": [
    "conv = nn.Conv2d(in_channels=3, out_channels=16, kernel_size=3, stride=1, padding=1)\n",
    "\n",
    "x = torch.randn(8, 3, 32, 32)       # batch of 8 RGB images 32×32\n",
    "y = conv(x)\n",
    "\n",
    "trace_module_shapes(conv, x)"
   ]
  },
  {
   "cell_type": "markdown",
   "id": "3b1a30fe-be7a-44cf-9b30-ddd352e82046",
   "metadata": {},
   "source": [
    "$n_{in} = 32$ <br>\n",
    "$p = 1$ <br>\n",
    "$k = 3$ <br>\n",
    "$s = 2$ <br>\n",
    "\n",
    "$n_{out}$ = $[(32 + (2*1) - 3)/2]+1 = 16$ (Approximating to lower due to Python floor devision `\\\\`.)"
   ]
  },
  {
   "cell_type": "code",
   "execution_count": 76,
   "id": "0732569e-85d0-454a-851a-d43166b674bd",
   "metadata": {},
   "outputs": [
    {
     "name": "stdout",
     "output_type": "stream",
     "text": [
      "==========================================================================================\n",
      "Layer                Trainable            Input Shape                    Output Shape\n",
      "------------------------------------------------------------------------------------------\n",
      "Conv2d               True                 (8, 3, 32, 32)                 (8, 16, 16, 16)\n",
      "==========================================================================================\n"
     ]
    }
   ],
   "source": [
    "conv = nn.Conv2d(in_channels=3, out_channels=16, kernel_size=3, stride=2, padding=1)\n",
    "\n",
    "x = torch.randn(8, 3, 32, 32)       # batch of 8 RGB images 32×32\n",
    "y = conv(x)\n",
    "\n",
    "trace_module_shapes(conv, x)"
   ]
  },
  {
   "cell_type": "markdown",
   "id": "470b07fd-9be1-4350-a9cb-fa38bb975b4f",
   "metadata": {},
   "source": [
    "Therefor, best practices for `Conv` layers:\n",
    "* Choose `in_channels` equal to the previous layer’s `out_channels` or input shape for the first layer.\n",
    "* Common kernels are `3x3` or `5x5`.\n",
    "* When stacking layers, it’s typical to increase (or at least maintain) the number of filters in deeper layers, since deeper layers learn more complex features. For example, one might use 16 filters in layer 1, 32 in layer 2, 64 in layer 3, etc. Deeper layers have more filters to capture larger combinations of patterns. (In practice many designs double channels after a pooling/downsampling step.)\n",
    "* For GPU efficiency, choose the number of input and output channels to be divisible by 8 (for FP16) or 4 (for TF32) to run efficiently on Tensor Cores [NVIDIA Link Source](https://docs.nvidia.com/deeplearning/performance/dl-performance-convolutional/index.html#checklist). For the first convolutional layer in most CNNs where the input tensor consists of 3-channel images, padding to 4 channels is sufficient if a stride of 2 is used.\n"
   ]
  },
  {
   "cell_type": "markdown",
   "id": "09a8345c-0c68-4bbe-aba9-4654232d0a6e",
   "metadata": {},
   "source": [
    "#### Pooling Layers (MaxPool, AvgPool, etc.)"
   ]
  },
  {
   "cell_type": "markdown",
   "id": "68d524e5-5ab6-4cfc-8283-fbf366b017b1",
   "metadata": {},
   "source": [
    "Pooling layers downsample spatial dimensions. For a 2D max-pool `nn.MaxPool2d` with kernel_size and stride, the output height/width follow a formula analogous to convolution. In effect, a 2×2 max-pool with stride 2 halves each spatial dimension (flooring if odd). Pooling operations reduce the size of feature maps by using some function to summarize subregions, such as taking the average or the maximum value. Pooling works by sliding a window across the input and feeding the content of the window to a pooling function. In some sense, pooling works very much like a discrete convolution, but replaces the linear combination described by the kernel with some other function."
   ]
  },
  {
   "cell_type": "markdown",
   "id": "a11b2f7c-ee80-4090-99cb-ed4b9f0b62f9",
   "metadata": {},
   "source": [
    "The pooling layers generally follow the same formula as `Conv`, just without weights. In most cases, the output size of a pooling layer is affected by:\n",
    "* $i$:  input.\n",
    "* $k$: pooling window size.\n",
    "* $s$: stride.\n",
    "\n",
    "Thus in some cases, it can be summarized as $Output Size = [(Input Size - Kernel Size)/Stride] + 1$."
   ]
  },
  {
   "cell_type": "code",
   "execution_count": 77,
   "id": "432ac530-0ede-43d1-9a52-0e8fb8c4cbbc",
   "metadata": {},
   "outputs": [
    {
     "name": "stdout",
     "output_type": "stream",
     "text": [
      "==========================================================================================\n",
      "Layer                Trainable            Input Shape                    Output Shape\n",
      "------------------------------------------------------------------------------------------\n",
      "MaxPool2d            False                (8, 3, 32, 32)                 (8, 3, 16, 16)\n",
      "==========================================================================================\n"
     ]
    }
   ],
   "source": [
    "pool = nn.MaxPool2d(kernel_size=2, stride=2)\n",
    "\n",
    "x = torch.randn(8, 3, 32, 32)       # batch of 8 RGB images 32×32\n",
    "y = pool(x)                         # # if x is [N, C, H, W], now y is [N, C, H/2, W/2]\n",
    "\n",
    "trace_module_shapes(pool, x)"
   ]
  },
  {
   "cell_type": "markdown",
   "id": "c9165fc5-c934-4ed5-96bd-193685cf6490",
   "metadata": {},
   "source": [
    "Experimenting different types:"
   ]
  },
  {
   "cell_type": "code",
   "execution_count": 78,
   "id": "db8ae60f-cfa2-4d82-92e8-38a191192751",
   "metadata": {},
   "outputs": [
    {
     "name": "stdout",
     "output_type": "stream",
     "text": [
      "MaxPool2d: torch.Size([1, 3, 16, 16])\n",
      "AvgPool2d: torch.Size([1, 3, 16, 16])\n",
      "MaxPool2d (ceil_mode): torch.Size([1, 3, 17, 17])\n",
      "AdaptiveAvgPool2d (7x7): torch.Size([1, 3, 7, 7])\n",
      "GlobalAvgPool2d: torch.Size([1, 3, 1, 1])\n",
      "GlobalMaxPool2d: torch.Size([1, 3, 1, 1])\n",
      "MaxPool1d: torch.Size([1, 3, 50])\n",
      "MaxPool3d: torch.Size([1, 3, 8, 32, 32])\n"
     ]
    }
   ],
   "source": [
    "# 1. Max-Pooling\n",
    "x = torch.randn(1, 3, 32, 32)\n",
    "\n",
    "pool = nn.MaxPool2d(kernel_size=2, stride=2)\n",
    "out = pool(x)\n",
    "print(\"MaxPool2d:\", out.shape)  # → (1, 3, 16, 16)\n",
    "\n",
    "# 2. Average pooling: Same structure as max-pooling, but it takes average of each region\n",
    "pool = nn.AvgPool2d(kernel_size=2, stride=2)\n",
    "out = pool(x)\n",
    "print(\"AvgPool2d:\", out.shape)  # → (1, 3, 16, 16)\n",
    "\n",
    "# 3. Max-Pooling wit ceil_mode=True: Rounds up instead of down if input size isn't divisable by stride\n",
    "x_odd = torch.randn(1, 3, 33, 33)  # odd-sized input\n",
    "pool = nn.MaxPool2d(kernel_size=2, stride=2, ceil_mode=True)\n",
    "out = pool(x_odd)\n",
    "print(\"MaxPool2d (ceil_mode):\", out.shape)  # → (1, 3, 17, 17)\n",
    "\n",
    "# 4. AdaptiveAvgPool2d(output_size=(7, 7)): Automatically figures out kernel/stride to reach target size (output_size)\n",
    "pool = nn.AdaptiveAvgPool2d(output_size=(7, 7))\n",
    "out = pool(x)\n",
    "print(\"AdaptiveAvgPool2d (7x7):\", out.shape)  # → (1, 3, 7, 7)\n",
    "\n",
    "# 5. Global Average Pooling (AdaptiveAvgPool2d(1): Averages entire spatial dimension — often used before fully connected layer.\n",
    "pool = nn.AdaptiveAvgPool2d(output_size=(1, 1))\n",
    "out = pool(x)\n",
    "print(\"GlobalAvgPool2d:\", out.shape)  # → (1, 3, 1, 1)\n",
    "\n",
    "# 6. nn.AdaptiveMaxPool2d(output_size=(1, 1)): Global max pooling (instead of average):\n",
    "pool = nn.AdaptiveMaxPool2d(output_size=(1, 1))\n",
    "out = pool(x)\n",
    "print(\"GlobalMaxPool2d:\", out.shape)  # → (1, 3, 1, 1)\n",
    "\n",
    "# 7. 1D Pooling (e.g. for sequences)\n",
    "x = torch.randn(1, 3, 100)  # (batch, channels, length)\n",
    "pool = nn.MaxPool1d(2)\n",
    "out = pool(x)\n",
    "print(\"MaxPool1d:\", out.shape)  # → (1, 3, 50)\n",
    "\n",
    "# 8. 🔹 3D Pooling (e.g. for videos or volumetric data)\n",
    "x = torch.randn(1, 3, 16, 64, 64)  # (batch, channels, depth, height, width)\n",
    "pool = nn.MaxPool3d(2)\n",
    "out = pool(x)\n",
    "print(\"MaxPool3d:\", out.shape)  # → (1, 3, 8, 32, 32)"
   ]
  },
  {
   "cell_type": "markdown",
   "id": "cdc671cc-24b9-45c8-8cea-dd67ca825436",
   "metadata": {},
   "source": [
    "<mark>**Pooling is typically applied after convolution/activation layers to reduce feature map size and induce translation invariance**</mark>. For instance, a simple example: input [32×32×3] → Conv (12 filters) → output [32×32×12] → ReLU (same [32×32×12]) → Pool → output [16×16×12]. **The general rule is that pooling only affects H,W as above, not the channel count.**"
   ]
  },
  {
   "cell_type": "markdown",
   "id": "926cdae6-faeb-4daf-8110-15aaaf1157e2",
   "metadata": {},
   "source": [
    "#### Activation functions (ReLU, Sigmoid, etc.)"
   ]
  },
  {
   "cell_type": "markdown",
   "id": "ea736d81-8c14-4eec-ab4a-c42ff00a5775",
   "metadata": {},
   "source": [
    "They apply elementwise nonlinearity. They do not change the tensor shape: the output tensor has the same shape as input. For example:\n",
    "\n",
    "```python\n",
    "relu = nn.ReLU()\n",
    "z = relu(y)   # y had shape [N, C, H, W]; z also [N, C, H, W]\n",
    "```\n",
    "\n",
    "In practice, <mark>**activations like ReLU are placed immediately after conv (and usually BatchNorm) to introduce non-linearity**</mark>. Using activations between conv layers allows the network to learn complex mappings; without an activation, successive linear layers collapse to one linear mapping."
   ]
  },
  {
   "cell_type": "markdown",
   "id": "84aed7d9-a63d-4aac-9df8-29326ea8d41d",
   "metadata": {},
   "source": [
    "Practical code can be found in the [activation_functions](./activation_functions.ipynb) notebook."
   ]
  },
  {
   "cell_type": "markdown",
   "id": "51788c97-bce5-40e3-bb3f-1c691bc98b98",
   "metadata": {},
   "source": [
    "#### Dropout Layers"
   ]
  },
  {
   "cell_type": "markdown",
   "id": "6e948d24-7281-4b04-90e1-7a083e4bdc71",
   "metadata": {},
   "source": [
    "Dropout (`nn.DropoutXd`) randomly zeroes elements and likewise preserves shape. Dropout layers are often applied after activations (or after a linear layer) to **regularize**, without altering dimensions. The input shape can be of any shape, and the output will be the same as the input.\n",
    "\n",
    "More about dropout to regularize and prevent overfitting in [regularization_to_reduce_overfitting](./regularization_to_reduce_overfitting.ipynb) notebook. <mark>**Dropout, if used, is generally applied after the activation, not before it.**</mark>"
   ]
  },
  {
   "cell_type": "code",
   "execution_count": 85,
   "id": "eba1566d-5afc-4b61-bc1d-b05a89dbcaed",
   "metadata": {},
   "outputs": [
    {
     "name": "stdout",
     "output_type": "stream",
     "text": [
      "==========================================================================================\n",
      "Layer                Trainable            Input Shape                    Output Shape\n",
      "------------------------------------------------------------------------------------------\n",
      "Dropout              False                (5, 3, 36, 36)                 (5, 3, 36, 36)\n",
      "==========================================================================================\n"
     ]
    }
   ],
   "source": [
    "trace_module_shapes(\n",
    "    nn.Dropout(0.5),\n",
    "    torch.randn(5, 3, 36, 36)\n",
    ")"
   ]
  },
  {
   "cell_type": "markdown",
   "id": "3700ee91-61c4-42c2-8b3c-073c68eb028a",
   "metadata": {},
   "source": [
    "#### Fully Connected (Linear) Layers\n"
   ]
  },
  {
   "cell_type": "markdown",
   "id": "f157420a-7ba5-40d8-9c9d-53516e0c758a",
   "metadata": {},
   "source": [
    "A fully-connected or dense layer (`nn.Linear`) expects a 2D input of shape (N, H_in) and outputs (N, H_out) (or higher-rank input where only the last dim is H_in). Before using a Linear layer, one often flattens the previous output. For example, after convs/pooling you might have a tensor of shape (N, C, H, W). To feed it into nn.Linear, do:"
   ]
  },
  {
   "cell_type": "code",
   "execution_count": 88,
   "id": "b391e092-e0fa-4ad2-81d5-9d9dc35e947d",
   "metadata": {},
   "outputs": [
    {
     "name": "stdout",
     "output_type": "stream",
     "text": [
      "torch.Size([5, 3, 32, 32])\n",
      "torch.Size([5, 3072])\n",
      "torch.Size([5, 10])\n"
     ]
    }
   ],
   "source": [
    "x = torch.randn(5, 3, 32, 32)\n",
    "\n",
    "N, C, H, W = x.shape\n",
    "print(x.shape)\n",
    "\n",
    "x_flat = x.view(N, C*H*W)   # flatten spatial and channel dims\n",
    "print(x_flat.shape)\n",
    "\n",
    "fc = nn.Linear(in_features=C*H*W, out_features=10)\n",
    "\n",
    "logits = fc(x_flat)        # shape (N,10)\n",
    "print(logits.shape)"
   ]
  },
  {
   "cell_type": "markdown",
   "id": "2ddedd80-2ef7-4ffd-8e9a-22036d48e509",
   "metadata": {},
   "source": [
    "The Linear layer has weight shape `(out_features, in_features)` and bias shape `(out_features)`. Thus you must set `in_features = C*H*W (total elements per sample)`. PyTorch docs confirm: Input: (… , H_in), Output: (…, H_out) with H_out = out_features."
   ]
  },
  {
   "cell_type": "markdown",
   "id": "7714b1d1-a31f-40ed-896c-77d43c79165a",
   "metadata": {},
   "source": [
    "It’s common to place one or more hidden Linear layers after flattening, often reducing dimensions until the final classification or output size. For example:"
   ]
  },
  {
   "cell_type": "markdown",
   "id": "7da3c2ae-64d8-419a-9989-7fb495ab4f27",
   "metadata": {},
   "source": [
    "```python\n",
    "fc1 = nn.Linear(C*H*W, 128)\n",
    "relu = nn.ReLU()\n",
    "fc2 = nn.Linear(128, num_classes)\n",
    "```"
   ]
  },
  {
   "cell_type": "markdown",
   "id": "ed7559b8-8938-4074-bb4a-b323c2cfeb45",
   "metadata": {},
   "source": [
    "ensures shapes `[N, C*H*W] → [N,128] → [N,num_classes]`. (As a rule, keep intermediate feature sizes moderate, since fully connected layers carry many parameters.)"
   ]
  }
 ],
 "metadata": {
  "kernelspec": {
   "display_name": "Python 3 (ipykernel)",
   "language": "python",
   "name": "python3"
  },
  "language_info": {
   "codemirror_mode": {
    "name": "ipython",
    "version": 3
   },
   "file_extension": ".py",
   "mimetype": "text/x-python",
   "name": "python",
   "nbconvert_exporter": "python",
   "pygments_lexer": "ipython3",
   "version": "3.10.12"
  }
 },
 "nbformat": 4,
 "nbformat_minor": 5
}
