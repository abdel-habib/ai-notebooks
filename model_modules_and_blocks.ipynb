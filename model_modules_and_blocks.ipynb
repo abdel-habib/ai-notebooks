{
 "cells": [
  {
   "cell_type": "markdown",
   "id": "3dc9966f-9745-4454-8bd7-69ebf8005975",
   "metadata": {},
   "source": [
    "Every neural network layer, architecture, or model in PyTorch is built as a subclass of `torch.nn.Module` class. Here we implement and explore in depth different sub-topics related."
   ]
  },
  {
   "cell_type": "code",
   "execution_count": 1,
   "id": "dc7d087a-472a-463f-b66c-274f87748639",
   "metadata": {},
   "outputs": [],
   "source": [
    "import torch\n",
    "import torch.nn as nn\n",
    "import numpy as np\n",
    "import torch.nn.functional as F\n",
    "import matplotlib.pyplot as plt\n",
    "from collections import OrderedDict\n",
    "\n",
    "%load_ext autoreload\n",
    "%autoreload 2"
   ]
  },
  {
   "cell_type": "markdown",
   "id": "201dda61-6975-44a5-adc1-fd0a3a845f27",
   "metadata": {},
   "source": [
    "Parameters are Tensor subclasses, that have a very special property when used with Module s - when they’re assigned as Module attributes they are automatically added to the list of its parameters, and will appear e.g. in parameters() iterator."
   ]
  },
  {
   "cell_type": "markdown",
   "id": "14289729-4d43-45f6-a775-e40bf4dca7c2",
   "metadata": {},
   "source": [
    "How different are nn.Parameters from torch.tensor()?"
   ]
  },
  {
   "cell_type": "markdown",
   "id": "7d8e17cf-2a70-41c7-b098-51deb79a71d4",
   "metadata": {},
   "source": [
    "#### Composing Multiple Layers using Sequential API"
   ]
  },
  {
   "cell_type": "markdown",
   "id": "f600618e-d4af-42a7-9823-0d7e961c9317",
   "metadata": {},
   "source": [
    "It is a container module that stores other nn.Module layers in the order they are passed and executes them sequentially in the forward() pass."
   ]
  },
  {
   "cell_type": "code",
   "execution_count": 2,
   "id": "d71cd589-796d-49b6-b11f-70737eb11010",
   "metadata": {},
   "outputs": [
    {
     "name": "stdout",
     "output_type": "stream",
     "text": [
      "Sequential(\n",
      "  (0): Conv2d(3, 16, kernel_size=(3, 3), stride=(1, 1), padding=(1, 1))\n",
      "  (1): BatchNorm2d(16, eps=1e-05, momentum=0.1, affine=True, track_running_stats=True)\n",
      "  (2): ReLU()\n",
      ")\n",
      "Sequential(\n",
      "  (0): Sequential(\n",
      "    (0): Conv2d(3, 16, kernel_size=(3, 3), stride=(1, 1), padding=(1, 1))\n",
      "    (1): BatchNorm2d(16, eps=1e-05, momentum=0.1, affine=True, track_running_stats=True)\n",
      "    (2): ReLU()\n",
      "  )\n",
      "  (1): MaxPool2d(kernel_size=2, stride=2, padding=0, dilation=1, ceil_mode=False)\n",
      ")\n",
      "Number of layers: 2\n"
     ]
    }
   ],
   "source": [
    "block = nn.Sequential(\n",
    "    nn.Conv2d(3, 16, 3, padding=1),\n",
    "    nn.BatchNorm2d(16),\n",
    "    nn.ReLU()\n",
    ")\n",
    "print(block)\n",
    "\n",
    "# we can nest nn.Sequential blocks inside other modules or inside other Sequentials\n",
    "model = nn.Sequential(\n",
    "    block,\n",
    "    nn.MaxPool2d(2)\n",
    ")\n",
    "print(model)\n",
    "print(\"Number of layers: \" + str(len(model)))          # Number of layers\n",
    "\n",
    "# by default, layers are given names based with int index\n",
    "# print(model[1])\n",
    "\n",
    "# for name, module in model.named_children():\n",
    "#     print(f\"Layer Name: {name}, Module: {module}\")"
   ]
  },
  {
   "cell_type": "markdown",
   "id": "b1d83554-3f78-40c6-b77d-c3aaaf05af67",
   "metadata": {},
   "source": [
    "We can also use named layers with Sequential container, using `OrderedDict`"
   ]
  },
  {
   "cell_type": "code",
   "execution_count": 3,
   "id": "3cc81051-b0c8-4686-87c3-4995065e3898",
   "metadata": {},
   "outputs": [
    {
     "name": "stdout",
     "output_type": "stream",
     "text": [
      "Accessing the whole named model: \n",
      "Sequential(\n",
      "  (conv): Conv2d(3, 8, kernel_size=(3, 3), stride=(1, 1), padding=(1, 1))\n",
      "  (relu): ReLU()\n",
      "  (pool): MaxPool2d(kernel_size=2, stride=2, padding=0, dilation=1, ceil_mode=False)\n",
      ")\n",
      "\n",
      "Accessing a single model layer: \n",
      "Conv2d(3, 8, kernel_size=(3, 3), stride=(1, 1), padding=(1, 1))\n",
      "\n"
     ]
    }
   ],
   "source": [
    "model = nn.Sequential(OrderedDict([\n",
    "    (\"conv\", nn.Conv2d(3, 8, 3, padding=1)),\n",
    "    (\"relu\", nn.ReLU()),\n",
    "    (\"pool\", nn.MaxPool2d(2))\n",
    "]))\n",
    "\n",
    "print(f\"Accessing the whole named model: \\n{model}\")\n",
    "print(f\"\\nAccessing a single model layer: \\n{model.conv}\\n\")"
   ]
  },
  {
   "cell_type": "markdown",
   "id": "b1a155ba-1d1a-4098-899d-96cdd072b0b7",
   "metadata": {},
   "source": [
    "#### Custom Modules (Decomposing Models into Blocks)"
   ]
  },
  {
   "cell_type": "code",
   "execution_count": null,
   "id": "5db90cda-234c-4943-a9c7-57cd933967a5",
   "metadata": {},
   "outputs": [],
   "source": []
  }
 ],
 "metadata": {
  "kernelspec": {
   "display_name": "Python 3 (ipykernel)",
   "language": "python",
   "name": "python3"
  },
  "language_info": {
   "codemirror_mode": {
    "name": "ipython",
    "version": 3
   },
   "file_extension": ".py",
   "mimetype": "text/x-python",
   "name": "python",
   "nbconvert_exporter": "python",
   "pygments_lexer": "ipython3",
   "version": "3.10.12"
  }
 },
 "nbformat": 4,
 "nbformat_minor": 5
}
